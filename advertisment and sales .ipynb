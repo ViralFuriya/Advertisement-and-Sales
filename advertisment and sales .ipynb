{
 "cells": [
  {
   "cell_type": "markdown",
   "metadata": {},
   "source": [
    "# Linear Regression Demonstration\n",
    "\n",
    "In this demonstration, we will explore the application of linear regression in predicting sales based on advertising expenditure in various media channels. The dataset consists of four variables: TV, radio, newspaper, and sales. Each row represents data from a specific advertising campaign.\n",
    "\n",
    "We will begin by analyzing the dataset to understand its structure and characteristics. Then, we will perform data preprocessing, including handling missing values, scaling numerical features, and encoding categorical variables if applicable.\n",
    "\n",
    "Next, we will split the dataset into training and testing sets to train our linear regression model. We will evaluate the model's performance using relevant metrics and visualize the results to gain insights into the relationship between advertising expenditure and sales.\n",
    "\n",
    "Finally, we will interpret the model's coefficients and discuss the implications of our findings. Through this demonstration, we aim to illustrate the practical implementation of linear regression for predictive analytics in marketing.\n"
   ]
  },
  {
   "cell_type": "markdown",
   "metadata": {},
   "source": [
    "# Libraries Used\n",
    "\n",
    "In this project, we have utilized several Python libraries for data manipulation, visualization, and modeling. Here is a list of the libraries used:\n",
    "\n",
    "- **pandas**: A powerful data manipulation library used for handling structured data.\n",
    "- **numpy**: A fundamental package for scientific computing with Python, providing support for arrays, matrices, and mathematical functions.\n",
    "- **seaborn**: A statistical data visualization library based on matplotlib, providing a high-level interface for drawing attractive and informative statistical graphics.\n",
    "- **matplotlib.pyplot**: A plotting library for creating static, animated, and interactive visualizations in Python.\n",
    "- **warnings**: A module for issuing warning messages.\n",
    "- **scipy.stats**: A library for statistical functions and distributions, including skewness calculation.\n",
    "- **statsmodels.stats.outliers_influence**: A module for outlier detection and influence analysis in statistical models.\n",
    "- **sklearn.model_selection**: A module for model selection and evaluation, including functions for splitting datasets into train and test sets.\n",
    "- **sklearn.linear_model**: A module containing various linear regression models, including ordinary least squares (OLS), Ridge, and Lasso regression.\n",
    "- **sklearn.metrics**: A module for evaluating the performance of machine learning models, including functions for calculating R-squared and mean squared error.\n",
    "- **statsmodels.formula.api**: A module providing a formulaic interface to statsmodels regression models.\n",
    "- **statsmodels.api**: A module providing a wide range of statistical models and tests, including linear regression models.\n",
    "\n",
    "These libraries are essential for conducting data analysis, building predictive models, and evaluating model performance throughout the project.\n"
   ]
  },
  {
   "cell_type": "code",
   "execution_count": 1,
   "metadata": {},
   "outputs": [],
   "source": [
    "import pandas as pd\n",
    "import numpy as np\n",
    "import seaborn as sns\n",
    "import matplotlib.pyplot as plt"
   ]
  },
  {
   "cell_type": "markdown",
   "metadata": {},
   "source": [
    "# Reading Advertising Data\n",
    "\n",
    "We begin by reading the \"advertising.csv\" file into a pandas DataFrame named `df`. We use the `read_csv` function from the pandas library to accomplish this. The data is read with the first row as the header and the first column as the index.\n",
    "\n",
    "```python\n",
    "import pandas as pd\n",
    "\n",
    "# Reading the CSV file into a DataFrame\n",
    "df = pd.read_csv(r'advertising.csv', index_col=0, header=0)\n",
    "\n",
    "# Displaying the entire DataFrame\n",
    "print(\"Full DataFrame:\")\n",
    "print(df)\n",
    "\n",
    "# Displaying the first 20 rows of the DataFrame\n",
    "print(\"\\nFirst 20 rows of the DataFrame:\")\n",
    "print(df.head(20))\n",
    "```"
   ]
  },
  {
   "cell_type": "code",
   "execution_count": 2,
   "metadata": {},
   "outputs": [
    {
     "data": {
      "text/html": [
       "<div>\n",
       "<style scoped>\n",
       "    .dataframe tbody tr th:only-of-type {\n",
       "        vertical-align: middle;\n",
       "    }\n",
       "\n",
       "    .dataframe tbody tr th {\n",
       "        vertical-align: top;\n",
       "    }\n",
       "\n",
       "    .dataframe thead th {\n",
       "        text-align: right;\n",
       "    }\n",
       "</style>\n",
       "<table border=\"1\" class=\"dataframe\">\n",
       "  <thead>\n",
       "    <tr style=\"text-align: right;\">\n",
       "      <th></th>\n",
       "      <th>TV</th>\n",
       "      <th>radio</th>\n",
       "      <th>newspaper</th>\n",
       "      <th>sales</th>\n",
       "    </tr>\n",
       "  </thead>\n",
       "  <tbody>\n",
       "    <tr>\n",
       "      <th>1</th>\n",
       "      <td>230.1</td>\n",
       "      <td>37.8</td>\n",
       "      <td>69.2</td>\n",
       "      <td>22.1</td>\n",
       "    </tr>\n",
       "    <tr>\n",
       "      <th>2</th>\n",
       "      <td>44.5</td>\n",
       "      <td>39.3</td>\n",
       "      <td>45.1</td>\n",
       "      <td>10.4</td>\n",
       "    </tr>\n",
       "    <tr>\n",
       "      <th>3</th>\n",
       "      <td>17.2</td>\n",
       "      <td>45.9</td>\n",
       "      <td>69.3</td>\n",
       "      <td>9.3</td>\n",
       "    </tr>\n",
       "    <tr>\n",
       "      <th>4</th>\n",
       "      <td>151.5</td>\n",
       "      <td>41.3</td>\n",
       "      <td>58.5</td>\n",
       "      <td>18.5</td>\n",
       "    </tr>\n",
       "    <tr>\n",
       "      <th>5</th>\n",
       "      <td>180.8</td>\n",
       "      <td>10.8</td>\n",
       "      <td>58.4</td>\n",
       "      <td>12.9</td>\n",
       "    </tr>\n",
       "    <tr>\n",
       "      <th>6</th>\n",
       "      <td>8.7</td>\n",
       "      <td>48.9</td>\n",
       "      <td>75.0</td>\n",
       "      <td>7.2</td>\n",
       "    </tr>\n",
       "    <tr>\n",
       "      <th>7</th>\n",
       "      <td>57.5</td>\n",
       "      <td>32.8</td>\n",
       "      <td>23.5</td>\n",
       "      <td>11.8</td>\n",
       "    </tr>\n",
       "    <tr>\n",
       "      <th>8</th>\n",
       "      <td>120.2</td>\n",
       "      <td>19.6</td>\n",
       "      <td>11.6</td>\n",
       "      <td>13.2</td>\n",
       "    </tr>\n",
       "    <tr>\n",
       "      <th>9</th>\n",
       "      <td>8.6</td>\n",
       "      <td>2.1</td>\n",
       "      <td>1.0</td>\n",
       "      <td>4.8</td>\n",
       "    </tr>\n",
       "    <tr>\n",
       "      <th>10</th>\n",
       "      <td>199.8</td>\n",
       "      <td>2.6</td>\n",
       "      <td>21.2</td>\n",
       "      <td>10.6</td>\n",
       "    </tr>\n",
       "    <tr>\n",
       "      <th>11</th>\n",
       "      <td>66.1</td>\n",
       "      <td>5.8</td>\n",
       "      <td>24.2</td>\n",
       "      <td>8.6</td>\n",
       "    </tr>\n",
       "    <tr>\n",
       "      <th>12</th>\n",
       "      <td>214.7</td>\n",
       "      <td>24.0</td>\n",
       "      <td>4.0</td>\n",
       "      <td>17.4</td>\n",
       "    </tr>\n",
       "    <tr>\n",
       "      <th>13</th>\n",
       "      <td>23.8</td>\n",
       "      <td>35.1</td>\n",
       "      <td>65.9</td>\n",
       "      <td>9.2</td>\n",
       "    </tr>\n",
       "    <tr>\n",
       "      <th>14</th>\n",
       "      <td>97.5</td>\n",
       "      <td>7.6</td>\n",
       "      <td>7.2</td>\n",
       "      <td>9.7</td>\n",
       "    </tr>\n",
       "    <tr>\n",
       "      <th>15</th>\n",
       "      <td>204.1</td>\n",
       "      <td>32.9</td>\n",
       "      <td>46.0</td>\n",
       "      <td>19.0</td>\n",
       "    </tr>\n",
       "    <tr>\n",
       "      <th>16</th>\n",
       "      <td>195.4</td>\n",
       "      <td>47.7</td>\n",
       "      <td>52.9</td>\n",
       "      <td>22.4</td>\n",
       "    </tr>\n",
       "    <tr>\n",
       "      <th>17</th>\n",
       "      <td>67.8</td>\n",
       "      <td>36.6</td>\n",
       "      <td>114.0</td>\n",
       "      <td>12.5</td>\n",
       "    </tr>\n",
       "    <tr>\n",
       "      <th>18</th>\n",
       "      <td>281.4</td>\n",
       "      <td>39.6</td>\n",
       "      <td>55.8</td>\n",
       "      <td>24.4</td>\n",
       "    </tr>\n",
       "    <tr>\n",
       "      <th>19</th>\n",
       "      <td>69.2</td>\n",
       "      <td>20.5</td>\n",
       "      <td>18.3</td>\n",
       "      <td>11.3</td>\n",
       "    </tr>\n",
       "    <tr>\n",
       "      <th>20</th>\n",
       "      <td>147.3</td>\n",
       "      <td>23.9</td>\n",
       "      <td>19.1</td>\n",
       "      <td>14.6</td>\n",
       "    </tr>\n",
       "  </tbody>\n",
       "</table>\n",
       "</div>"
      ],
      "text/plain": [
       "       TV  radio  newspaper  sales\n",
       "1   230.1   37.8       69.2   22.1\n",
       "2    44.5   39.3       45.1   10.4\n",
       "3    17.2   45.9       69.3    9.3\n",
       "4   151.5   41.3       58.5   18.5\n",
       "5   180.8   10.8       58.4   12.9\n",
       "6     8.7   48.9       75.0    7.2\n",
       "7    57.5   32.8       23.5   11.8\n",
       "8   120.2   19.6       11.6   13.2\n",
       "9     8.6    2.1        1.0    4.8\n",
       "10  199.8    2.6       21.2   10.6\n",
       "11   66.1    5.8       24.2    8.6\n",
       "12  214.7   24.0        4.0   17.4\n",
       "13   23.8   35.1       65.9    9.2\n",
       "14   97.5    7.6        7.2    9.7\n",
       "15  204.1   32.9       46.0   19.0\n",
       "16  195.4   47.7       52.9   22.4\n",
       "17   67.8   36.6      114.0   12.5\n",
       "18  281.4   39.6       55.8   24.4\n",
       "19   69.2   20.5       18.3   11.3\n",
       "20  147.3   23.9       19.1   14.6"
      ]
     },
     "execution_count": 2,
     "metadata": {},
     "output_type": "execute_result"
    }
   ],
   "source": [
    "df=pd.read_csv(r'advertising.csv', index_col=0, header=0)\n",
    "df\n",
    "df.head(20)"
   ]
  },
  {
   "cell_type": "markdown",
   "metadata": {},
   "source": [
    "# Exploring DataFrame Information\n",
    "\n",
    "## Data Types\n",
    "We first examine the data types of each column in the DataFrame using the `dtypes` attribute. This provides insights into the type of data present in each column.\n",
    "\n",
    "## Shape\n",
    "Next, we check the shape of the DataFrame, which indicates the number of rows and columns present in the dataset.\n",
    "\n",
    "## Descriptive Statistics\n",
    "We then generate descriptive statistics for the numerical columns in the DataFrame using the describe() method. This includes metrics such as count, mean, standard deviation, minimum, maximum, and percentiles.\n",
    "\n",
    "## Information Summary\n",
    "Finally, we obtain a concise summary of the DataFrame's information, including the data types, non-null counts, and memory usage, using the info() method."
   ]
  },
  {
   "cell_type": "code",
   "execution_count": 3,
   "metadata": {},
   "outputs": [
    {
     "name": "stdout",
     "output_type": "stream",
     "text": [
      "TV           float64\n",
      "radio        float64\n",
      "newspaper    float64\n",
      "sales        float64\n",
      "dtype: object\n",
      "\n",
      "(200, 4)\n",
      "\n",
      "               TV       radio   newspaper       sales\n",
      "count  200.000000  200.000000  200.000000  200.000000\n",
      "mean   147.042500   23.264000   30.554000   14.022500\n",
      "std     85.854236   14.846809   21.778621    5.217457\n",
      "min      0.700000    0.000000    0.300000    1.600000\n",
      "25%     74.375000    9.975000   12.750000   10.375000\n",
      "50%    149.750000   22.900000   25.750000   12.900000\n",
      "75%    218.825000   36.525000   45.100000   17.400000\n",
      "max    296.400000   49.600000  114.000000   27.000000\n",
      "\n"
     ]
    },
    {
     "data": {
      "text/plain": [
       "<bound method DataFrame.info of         TV  radio  newspaper  sales\n",
       "1    230.1   37.8       69.2   22.1\n",
       "2     44.5   39.3       45.1   10.4\n",
       "3     17.2   45.9       69.3    9.3\n",
       "4    151.5   41.3       58.5   18.5\n",
       "5    180.8   10.8       58.4   12.9\n",
       "..     ...    ...        ...    ...\n",
       "196   38.2    3.7       13.8    7.6\n",
       "197   94.2    4.9        8.1    9.7\n",
       "198  177.0    9.3        6.4   12.8\n",
       "199  283.6   42.0       66.2   25.5\n",
       "200  232.1    8.6        8.7   13.4\n",
       "\n",
       "[200 rows x 4 columns]>"
      ]
     },
     "execution_count": 3,
     "metadata": {},
     "output_type": "execute_result"
    }
   ],
   "source": [
    "print(df.dtypes)\n",
    "print()\n",
    "print(df.shape)\n",
    "print()\n",
    "print(df.describe())\n",
    "print()\n",
    "df.info"
   ]
  },
  {
   "cell_type": "markdown",
   "metadata": {},
   "source": [
    "These steps provide a comprehensive overview of the DataFrame's structure, data types, and statistical characteristics, aiding in the initial exploration and understanding of the dataset.\n",
    "\n"
   ]
  },
  {
   "cell_type": "markdown",
   "metadata": {},
   "source": [
    "# Checking for Missing Values\n",
    "\n",
    "To identify missing values in the DataFrame, we use the `isnull()` method followed by the `sum()` method to count the number of missing values in each column.\n"
   ]
  },
  {
   "cell_type": "code",
   "execution_count": 4,
   "metadata": {
    "scrolled": true
   },
   "outputs": [
    {
     "data": {
      "text/plain": [
       "TV           0\n",
       "radio        0\n",
       "newspaper    0\n",
       "sales        0\n",
       "dtype: int64"
      ]
     },
     "execution_count": 4,
     "metadata": {},
     "output_type": "execute_result"
    }
   ],
   "source": [
    "df.isnull().sum()"
   ]
  },
  {
   "cell_type": "markdown",
   "metadata": {},
   "source": [
    "# Checking for Duplicates\n",
    "\n",
    "To identify duplicate rows in the DataFrame, we use the `duplicated()` method followed by the `sum()` method to count the number of duplicate rows."
   ]
  },
  {
   "cell_type": "code",
   "execution_count": 5,
   "metadata": {
    "scrolled": true
   },
   "outputs": [
    {
     "data": {
      "text/plain": [
       "0"
      ]
     },
     "execution_count": 5,
     "metadata": {},
     "output_type": "execute_result"
    }
   ],
   "source": [
    "df.duplicated().sum()"
   ]
  },
  {
   "cell_type": "markdown",
   "metadata": {},
   "source": [
    "# DataFrame Columns\n",
    "\n",
    "To access the column names of the DataFrame, we use the `columns` attribute.\n"
   ]
  },
  {
   "cell_type": "code",
   "execution_count": 6,
   "metadata": {},
   "outputs": [
    {
     "data": {
      "text/plain": [
       "Index(['TV', 'radio', 'newspaper', 'sales'], dtype='object')"
      ]
     },
     "execution_count": 6,
     "metadata": {},
     "output_type": "execute_result"
    }
   ],
   "source": [
    "df.columns"
   ]
  },
  {
   "cell_type": "markdown",
   "metadata": {},
   "source": [
    "# Boxplot Visualization\n",
    "\n",
    "To visualize the distribution of numerical data in the DataFrame, we can create a boxplot using the `boxplot()` function provided by pandas.\n"
   ]
  },
  {
   "cell_type": "code",
   "execution_count": 7,
   "metadata": {},
   "outputs": [
    {
     "data": {
      "image/png": "[encoded data removed]",
      "text/plain": [
       "<Figure size 432x288 with 1 Axes>"
      ]
     },
     "metadata": {
      "needs_background": "light"
     },
     "output_type": "display_data"
    }
   ],
   "source": [
    "df.boxplot()\n",
    "plt.show()"
   ]
  },
  {
   "cell_type": "markdown",
   "metadata": {},
   "source": [
    "### Assumption 1: Assumption of Outliers\n",
    "# Checking for Outliers\n",
    "\n",
    "To verify the assumption that there should be no outliers in the data, we can create boxplots for each numerical column in the DataFrame.\n"
   ]
  },
  {
   "cell_type": "code",
   "execution_count": 8,
   "metadata": {},
   "outputs": [
    {
     "data": {
      "image/png": "[encoded data removed]",
      "text/plain": [
       "<Figure size 432x288 with 1 Axes>"
      ]
     },
     "metadata": {
      "needs_background": "light"
     },
     "output_type": "display_data"
    },
    {
     "data": {
      "image/png": "[encoded data removed]",
      "text/plain": [
       "<Figure size 432x288 with 1 Axes>"
      ]
     },
     "metadata": {
      "needs_background": "light"
     },
     "output_type": "display_data"
    },
    {
     "data": {
      "image/png": "[encoded data removed]",
      "text/plain": [
       "<Figure size 432x288 with 1 Axes>"
      ]
     },
     "metadata": {
      "needs_background": "light"
     },
     "output_type": "display_data"
    },
    {
     "data": {
      "image/png": "[encoded data removed]",
      "text/plain": [
       "<Figure size 432x288 with 1 Axes>"
      ]
     },
     "metadata": {
      "needs_background": "light"
     },
     "output_type": "display_data"
    }
   ],
   "source": [
    "#Assumption 1 : There should be no outliers in the data.\n",
    "#Check using boxplot.\n",
    "for i in df.columns:\n",
    "    df.boxplot(column=i)\n",
    "    plt.show()"
   ]
  },
  {
   "cell_type": "markdown",
   "metadata": {},
   "source": [
    "### Observation on Outliers in the \"newspaper\" Variable\n",
    "\n",
    "Upon visual inspection of the boxplot for the \"newspaper\" variable, it's evident that there are a few outliers present. However, upon closer examination, these outliers appear to occur at regular intervals rather than being random occurrences.\n",
    "\n",
    "#### Interpretation:\n",
    "\n",
    "1. **Presence of Outliers:** The boxplot reveals that there are outliers in the \"newspaper\" variable.\n",
    "\n",
    "2. **Regular Interval:** Interestingly, these outliers seem to appear at regular intervals within the dataset.\n",
    "\n",
    "#### Implications:\n",
    "\n",
    "Given the regular occurrence of these outliers, they are likely not errors or anomalies in the data. Instead, they may represent genuine data points that deviate significantly from the rest of the observations.\n",
    "\n",
    "#### Action:\n",
    "\n",
    "Considering the regularity of these outliers and their potential relevance to the underlying patterns in the data, it may be prudent to retain them in the analysis. However, depending on the specific analysis or modeling goals, it's also feasible to remove these outliers before proceeding with further analysis.\n",
    "\n",
    "#### Recommendation:\n",
    "\n",
    "Before making a decision on whether to retain or remove these outliers, it's advisable to conduct additional exploratory data analysis and consider the context of the data and the objectives of the analysis.\n"
   ]
  },
  {
   "cell_type": "markdown",
   "metadata": {},
   "source": [
    "-----------------------------------"
   ]
  },
  {
   "cell_type": "markdown",
   "metadata": {},
   "source": [
    "### Assumption 2: Assumption of Linearity\n",
    "\n",
    "To assess the assumption of linearity, we conduct a pairplot to visualize the relationship between each independent variable (\"TV\", \"radio\", \"newspaper\") and the dependent variable (\"sales\")."
   ]
  },
  {
   "cell_type": "code",
   "execution_count": 9,
   "metadata": {},
   "outputs": [
    {
     "data": {
      "image/png": "[encoded data removed]",
      "text/plain": [
       "<Figure size 540x180 with 3 Axes>"
      ]
     },
     "metadata": {
      "needs_background": "light"
     },
     "output_type": "display_data"
    }
   ],
   "source": [
    "#Assumption 2: Assumption of Linearity: Every independent variable should have a linear relationship with the dependent variable\n",
    "sns.pairplot(df,x_vars=['TV','radio','newspaper'],y_vars=\"sales\",kind='reg')\n",
    "plt.show()"
   ]
  },
  {
   "cell_type": "markdown",
   "metadata": {},
   "source": [
    "#### Observations:\n",
    "\n",
    "1. **TV vs. Sales:** There appears to be a positive linear relationship between TV advertising expenditure and sales. As TV advertising expenditure increases, sales also tend to increase.\n",
    "\n",
    "2. **Radio vs. Sales:** Similarly, there seems to be a positive linear relationship between radio advertising expenditure and sales. Higher radio advertising expenditure correlates with higher sales.\n",
    "\n",
    "3. **Newspaper vs. Sales:** The relationship between newspaper advertising expenditure and sales appears to be less clear compared to TV and radio. There is some scattered pattern in the data, indicating a weaker linear relationship.\n",
    "\n",
    "#### Interpretation:\n",
    "\n",
    "The pairplot visualizations suggest that the assumption of linearity holds true for the \"TV\" and \"radio\" variables in relation to sales. However, the relationship between \"newspaper\" advertising expenditure and sales may not exhibit a strictly linear pattern.\n",
    "\n",
    "#### Conclusion:\n",
    "\n",
    "Based on the pairplot analysis, we can conclude that there is evidence of linearity between the independent variables (TV and radio) and the dependent variable (sales), supporting the assumption of linearity. However, further examination may be required to assess the strength of the relationship and any potential non-linear patterns in the data.\n"
   ]
  },
  {
   "cell_type": "markdown",
   "metadata": {},
   "source": [
    "### Assessment of Newspaper Variable\n",
    "\n",
    "Upon analyzing the pairplot visualization, it is observed that the \"newspaper\" advertising expenditure variable does not exhibit a clear linear relationship with the \"sales\" variable. Unlike the \"TV\" and \"radio\" variables, which demonstrate positive linear relationships with sales, the newspaper variable shows scattered data points with no discernible linear pattern.\n",
    "\n",
    "#### Conclusion:\n",
    "\n",
    "Based on the assessment, it is concluded that the \"newspaper\" advertising expenditure variable does not display a significant linear relationship with the \"sales\" variable. Therefore, considering the lack of clear association, the \"newspaper\" variable may be considered for elimination from the analysis to avoid potential noise or confounding effects in the regression model.\n"
   ]
  },
  {
   "cell_type": "markdown",
   "metadata": {},
   "source": [
    "### Removal of Newspaper Variable\n",
    "\n",
    "To address the absence of a clear linear relationship between the \"newspaper\" advertising expenditure variable and the \"sales\" variable, the decision has been made to remove the \"newspaper\" variable from the dataset. This action aims to streamline the dataset and improve the focus on the variables that exhibit stronger linear relationships with sales.\n",
    "\n",
    "#### Implementation:\n",
    "\n",
    "The \"newspaper\" variable was removed from the dataset using the pandas `drop()` function with the `axis=1` parameter to specify dropping columns. The `inplace=True` parameter ensured that the change was applied directly to the dataframe."
   ]
  },
  {
   "cell_type": "code",
   "execution_count": 10,
   "metadata": {},
   "outputs": [],
   "source": [
    "df.drop([\"newspaper\"],axis=1,inplace=True)"
   ]
  },
  {
   "cell_type": "code",
   "execution_count": 11,
   "metadata": {},
   "outputs": [
    {
     "data": {
      "text/plain": [
       "Index(['TV', 'radio', 'sales'], dtype='object')"
      ]
     },
     "execution_count": 11,
     "metadata": {},
     "output_type": "execute_result"
    }
   ],
   "source": [
    "df.columns"
   ]
  },
  {
   "cell_type": "markdown",
   "metadata": {},
   "source": [
    "### Data Preparation for Linear Regression\n",
    "\n",
    "To prepare the data for linear regression analysis, the independent variables (features) and the dependent variable (target) were extracted from the dataset. The \"TV\" and \"radio\" advertising expenditure variables were selected as the independent variables (features), denoted as X, while the \"sales\" variable was designated as the dependent variable (target), denoted as Y.\n",
    "\n",
    "#### Implementation:\n",
    "\n",
    "The independent variables (features) were extracted from the dataset using pandas dataframe indexing to create a subset dataframe containing only the \"TV\" and \"radio\" columns. The dependent variable (target) was extracted using dataframe indexing to obtain the \"sales\" column.\n"
   ]
  },
  {
   "cell_type": "code",
   "execution_count": 12,
   "metadata": {},
   "outputs": [],
   "source": [
    "# create x and y\n",
    "X=df[['TV','radio']] #,'newspaper']]\n",
    "Y=df['sales']\n",
    "# X=data.iloc[:,0:-1]"
   ]
  },
  {
   "cell_type": "code",
   "execution_count": 13,
   "metadata": {},
   "outputs": [
    {
     "name": "stdout",
     "output_type": "stream",
     "text": [
      "(200, 2)\n",
      "(200,)\n"
     ]
    }
   ],
   "source": [
    "print(X.shape)\n",
    "print(Y.shape)"
   ]
  },
  {
   "cell_type": "code",
   "execution_count": 14,
   "metadata": {},
   "outputs": [],
   "source": [
    "import warnings\n",
    "warnings.filterwarnings('ignore')"
   ]
  },
  {
   "cell_type": "markdown",
   "metadata": {},
   "source": [
    "### Assumption 3: Assumption of Normality\n",
    "\n",
    "The assumption of normality states that the dependent variable should follow an approximate normal distribution. To assess this assumption, a histogram with a kernel density estimation (KDE) plot was created for the dependent variable \"sales\".\n",
    "\n",
    "#### Implementation:\n",
    "\n",
    "A seaborn `distplot` was used to visualize the distribution of the dependent variable \"sales\". The histogram with KDE plot indicates the distribution of \"sales\" values, providing insights into its normality.\n"
   ]
  },
  {
   "cell_type": "code",
   "execution_count": 15,
   "metadata": {},
   "outputs": [
    {
     "data": {
      "image/png": "[encoded data removed]",
      "text/plain": [
       "<Figure size 432x288 with 1 Axes>"
      ]
     },
     "metadata": {
      "needs_background": "light"
     },
     "output_type": "display_data"
    }
   ],
   "source": [
    "#Assumption 3: Assumption of Normality: The dependent variable should follow an approximate normal distribution\n",
    "sns.distplot(Y)\n",
    "plt.show()"
   ]
  },
  {
   "cell_type": "markdown",
   "metadata": {},
   "source": [
    "#### Observation:\n",
    "The histogram with KDE plot illustrates the distribution of \"sales\" values. Further analysis may be required to evaluate the normality assumption and its implications for linear regression analysis."
   ]
  },
  {
   "cell_type": "markdown",
   "metadata": {},
   "source": [
    "### Assumption of Normality\n",
    "\n",
    "The assumption of normality states that the independent variables should follow an approximate normal distribution. To assess this assumption, histograms with kernel density estimation (KDE) plots were created for the independent variables \"TV\" and \"radio\".\n",
    "\n",
    "#### Implementation:\n",
    "\n",
    "Seaborn's `distplot` function was utilized to visualize the distribution of the independent variables \"TV\" and \"radio\". The histograms with KDE plots indicate the distribution of values for each independent variable.\n"
   ]
  },
  {
   "cell_type": "code",
   "execution_count": 16,
   "metadata": {},
   "outputs": [
    {
     "data": {
      "image/png": "[encoded data removed]",
      "text/plain": [
       "<Figure size 432x288 with 1 Axes>"
      ]
     },
     "metadata": {
      "needs_background": "light"
     },
     "output_type": "display_data"
    }
   ],
   "source": [
    "sns.distplot(X)\n",
    "plt.show()"
   ]
  },
  {
   "cell_type": "markdown",
   "metadata": {},
   "source": [
    "#### Observation:\n",
    "The histograms with KDE plots illustrate the distribution of values for the independent variables \"TV\" and \"radio\". Further analysis may be required to evaluate the normality assumption and its implications for linear regression analysis.\n",
    "\n"
   ]
  },
  {
   "cell_type": "markdown",
   "metadata": {},
   "source": [
    "### Transformation of Dependent Variable\n",
    "\n",
    "If the dependent variable Y does not follow a normal distribution, log transformation can be considered to address this issue. However, it's essential to note that log transformation should not be used unnecessarily and should be applied judiciously based on the data characteristics.\n",
    "\n",
    "#### Implementation:\n",
    "\n",
    "If necessary, log transformation can be performed on the dependent variable Y using the natural logarithm function (`np.log1p`). This transformation can help stabilize variance and make the distribution of Y more symmetrical, which is beneficial for linear regression analysis.\n"
   ]
  },
  {
   "cell_type": "code",
   "execution_count": 17,
   "metadata": {
    "scrolled": true
   },
   "outputs": [
    {
     "data": {
      "text/plain": [
       "'\\n#log transformation\\nimport numpy as np\\nY_log = np.log(Y)\\n\\nsns.distplot(Y_log,hist=True)\\n'"
      ]
     },
     "execution_count": 17,
     "metadata": {},
     "output_type": "execute_result"
    }
   ],
   "source": [
    "\"\"\"\n",
    "#log transformation\n",
    "import numpy as np\n",
    "Y_log = np.log(Y)\n",
    "\n",
    "sns.distplot(Y_log,hist=True)\n",
    "\"\"\""
   ]
  },
  {
   "cell_type": "markdown",
   "metadata": {},
   "source": [
    "### Histogram of Independent Variables\n",
    "\n",
    "Histograms are useful for visualizing the distribution of numerical variables. Here, histograms for the independent variables are plotted to understand their distributions.\n"
   ]
  },
  {
   "cell_type": "code",
   "execution_count": 18,
   "metadata": {},
   "outputs": [
    {
     "data": {
      "image/png": "[encoded data removed]",
      "text/plain": [
       "<Figure size 432x288 with 2 Axes>"
      ]
     },
     "metadata": {
      "needs_background": "light"
     },
     "output_type": "display_data"
    }
   ],
   "source": [
    "X.hist(bins=20)\n",
    "plt.show()"
   ]
  },
  {
   "cell_type": "markdown",
   "metadata": {},
   "source": [
    "#### Interpretation:\n",
    "Histograms provide insights into the distribution of each independent variable. By specifying the number of bins (20 in this case), the range of values is divided into equal intervals, and the frequency of observations within each interval is depicted.\n",
    "\n",
    "#### Considerations:\n",
    "Histograms help assess the spread and central tendency of the data for each independent variable. Understanding the distribution characteristics can guide further data preprocessing steps or modeling decisions.\n",
    "\n"
   ]
  },
  {
   "cell_type": "markdown",
   "metadata": {},
   "source": [
    "To avoid the minus infinite problem that could have arised due to the log(0) we do perfom this checking"
   ]
  },
  {
   "cell_type": "markdown",
   "metadata": {},
   "source": [
    "------------------------"
   ]
  },
  {
   "cell_type": "markdown",
   "metadata": {},
   "source": [
    "### Skewness Analysis and Transformation\n",
    "\n",
    "Skewness analysis is performed to identify highly skewed variables, and appropriate transformations are applied to address skewness in the data.\n",
    "\n",
    "#### Implementation:\n",
    "\n",
    "1. Skewness is calculated for each variable using the `skew` function from the `scipy.stats` module.\n",
    "\n",
    "2. Variables with skewness greater than 0.75 or less than -0.75 are considered highly skewed and are subsetted.\n",
    "\n",
    "3. Log transformation (log1p) is applied to highly skewed numeric features to address skewness.\n"
   ]
  },
  {
   "cell_type": "code",
   "execution_count": 19,
   "metadata": {},
   "outputs": [
    {
     "name": "stdout",
     "output_type": "stream",
     "text": [
      "TV      -0.069328\n",
      "radio    0.093467\n",
      "dtype: float64\n",
      "Series([], dtype: float64)\n"
     ]
    }
   ],
   "source": [
    "from scipy.stats import skew\n",
    "#finding the skewness in each variable\n",
    "data_num_skew = X.apply(lambda i: skew(i.dropna()))\n",
    "#subsetting the variables that are highly skewed\n",
    "data_num_skewed = data_num_skew[(data_num_skew > .75) | (data_num_skew < -.75)]\n",
    " \n",
    "print(data_num_skew)\n",
    "print(data_num_skewed)\n",
    "import numpy as np\n",
    "# apply log + 1 transformation for all numeric features with skewness over .75\n",
    "X[data_num_skewed.index] = np.log1p(X[data_num_skewed.index])"
   ]
  },
  {
   "cell_type": "markdown",
   "metadata": {},
   "source": [
    "#### Transformation Types:\n",
    "Log - Log: Both independent variables (X) and dependent variable (Y) have been log transformed.<br>\n",
    "Level - Log: Only the dependent variable (Y) has been log transformed, while independent variables (X) remain unchanged.<br>\n",
    "Log - Level: Only independent variables (X) have been log transformed, and the dependent variable (Y) remains unchanged.<br>\n",
    "Level - Level: Both independent variables (X) and dependent variable (Y) have not been log transformed and are used as they are.<br>"
   ]
  },
  {
   "cell_type": "markdown",
   "metadata": {},
   "source": [
    "#### Considerations:\n",
    "Skewness analysis and transformation are essential steps in preparing the data for linear regression modeling. Log transformation helps mitigate the effects of skewness, resulting in a more normally distributed dataset, which is beneficial for regression analysis.\n",
    "\n"
   ]
  },
  {
   "cell_type": "markdown",
   "metadata": {},
   "source": [
    "### Assumption 4 : Assumption of No Multicollinearity\n",
    "\n",
    "Multicollinearity refers to the presence of strong correlations between independent variables in a regression model, which can negatively impact the model's performance and interpretability.\n",
    "\n",
    "#### Implementation:\n",
    "\n",
    "1. Calculate the correlation matrix between independent variables using Pearson correlation coefficient.\n",
    "2. Visualize the correlation matrix using a heatmap to identify multicollinearity.\n",
    "\n",
    "#### Interpretation:\n",
    "The correlation matrix and heatmap provide insights into the pairwise correlations between independent variables. High correlations (close to 1 or -1) indicate multicollinearity, which should be addressed before fitting the regression model.\n",
    "\n",
    "#### Considerations:\n",
    "- Multicollinearity can lead to unstable parameter estimates and inflated standard errors, affecting the reliability of regression coefficients.\n",
    "- Techniques such as variance inflation factor (VIF) analysis or regularization methods like ridge regression can help mitigate multicollinearity issues."
   ]
  },
  {
   "cell_type": "code",
   "execution_count": 20,
   "metadata": {},
   "outputs": [
    {
     "name": "stdout",
     "output_type": "stream",
     "text": [
      "             TV     radio\n",
      "TV     1.000000  0.054809\n",
      "radio  0.054809  1.000000\n"
     ]
    },
    {
     "data": {
      "image/png": "[encoded data removed]",
      "text/plain": [
       "<Figure size 432x288 with 2 Axes>"
      ]
     },
     "metadata": {
      "needs_background": "light"
     },
     "output_type": "display_data"
    }
   ],
   "source": [
    "#Assumption of no multicollinearity : There should be no multicollinearity between the independent variables\n",
    "#Muliticollinearity is the relationship amongst the independent variables\n",
    "corr_df=X.corr(method=\"pearson\")\n",
    "print(corr_df)\n",
    "\n",
    "sns.heatmap(corr_df,vmax=1.0, vmin=-1.0, annot=True)\n",
    "plt.show()"
   ]
  },
  {
   "cell_type": "markdown",
   "metadata": {},
   "source": [
    "The Variance Inflation Factor (VIF) is a measure used to detect multicollinearity in regression analysis. It quantifies how much the variance of an estimated regression coefficient is increased due to multicollinearity in the model.\n",
    "\n",
    "Specifically, VIF measures the ratio of variance in a model with multiple predictors, divided by the variance of a model with only one predictor. It helps identify when independent variables are highly correlated with each other, which can lead to inflated standard errors and unreliable coefficient estimates.\n",
    "\n",
    "A VIF value of 1 indicates no multicollinearity, while values above 5 or 10 are often considered problematic and may require further investigation or remediation.\n",
    "\n"
   ]
  },
  {
   "cell_type": "code",
   "execution_count": 21,
   "metadata": {},
   "outputs": [
    {
     "data": {
      "text/html": [
       "<div>\n",
       "<style scoped>\n",
       "    .dataframe tbody tr th:only-of-type {\n",
       "        vertical-align: middle;\n",
       "    }\n",
       "\n",
       "    .dataframe tbody tr th {\n",
       "        vertical-align: top;\n",
       "    }\n",
       "\n",
       "    .dataframe thead th {\n",
       "        text-align: right;\n",
       "    }\n",
       "</style>\n",
       "<table border=\"1\" class=\"dataframe\">\n",
       "  <thead>\n",
       "    <tr style=\"text-align: right;\">\n",
       "      <th></th>\n",
       "      <th>features</th>\n",
       "      <th>VIF Factor</th>\n",
       "    </tr>\n",
       "  </thead>\n",
       "  <tbody>\n",
       "    <tr>\n",
       "      <th>0</th>\n",
       "      <td>TV</td>\n",
       "      <td>2.24</td>\n",
       "    </tr>\n",
       "    <tr>\n",
       "      <th>1</th>\n",
       "      <td>radio</td>\n",
       "      <td>2.24</td>\n",
       "    </tr>\n",
       "  </tbody>\n",
       "</table>\n",
       "</div>"
      ],
      "text/plain": [
       "  features  VIF Factor\n",
       "0       TV        2.24\n",
       "1    radio        2.24"
      ]
     },
     "execution_count": 21,
     "metadata": {},
     "output_type": "execute_result"
    }
   ],
   "source": [
    "from statsmodels.stats.outliers_influence import variance_inflation_factor as vif\n",
    " \n",
    "vif_df = pd.DataFrame()\n",
    "vif_df[\"features\"] = X.columns\n",
    "vif_df[\"VIF Factor\"] = [vif(X.values, i) for i in range(X.shape[1])]\n",
    "vif_df.round(2)"
   ]
  },
  {
   "cell_type": "markdown",
   "metadata": {},
   "source": [
    "The table above displays the variance inflation factor (VIF) for each feature in the dataset.<br> VIF measures the severity of multicollinearity in regression analysis.<br> A VIF value of 1 indicates no multicollinearity, while values greater than 5 or 10 suggest high multicollinearity.<br> In this case, both \"TV\" and \"radio\" have VIF factors around 2.24, indicating low multicollinearity and suggesting that the independent variables do not exhibit strong multicollinearity issues.\n"
   ]
  },
  {
   "cell_type": "code",
   "execution_count": 22,
   "metadata": {},
   "outputs": [],
   "source": [
    "#X.drop(\"newspaper\", axis=1,inplace=True)\n",
    "#re-run the VIF code"
   ]
  },
  {
   "cell_type": "markdown",
   "metadata": {},
   "source": [
    "# Model Building"
   ]
  },
  {
   "cell_type": "code",
   "execution_count": 23,
   "metadata": {},
   "outputs": [],
   "source": [
    "from sklearn.model_selection import train_test_split\n",
    "\n",
    "#Split the data into test and train \n",
    "X_train, X_test, Y_train, Y_test = train_test_split(X,Y,test_size=0.2,random_state=10)"
   ]
  },
  {
   "cell_type": "markdown",
   "metadata": {},
   "source": [
    "This code splits the dataset into training and testing sets, where X_train and Y_train represent the features and target variable of the training set, respectively, and X_test and Y_test represent the features and target variable of the testing set, respectively.<br> The parameter test_size=0.2 specifies that 20% of the data will be used for testing, while the remaining 80% will be used for training. <br>The random_state parameter ensures reproducibility by setting the random seed."
   ]
  },
  {
   "cell_type": "code",
   "execution_count": 24,
   "metadata": {},
   "outputs": [
    {
     "name": "stdout",
     "output_type": "stream",
     "text": [
      "(160, 2)\n",
      "(160,)\n",
      "(40, 2)\n",
      "(40,)\n"
     ]
    }
   ],
   "source": [
    "print(X_train.shape)\n",
    "print(Y_train.shape)\n",
    "print(X_test.shape)\n",
    "print(Y_test.shape)\n",
    "#print(\"Percent of train data\",X_train.shape[0]/X.shape[0]*100)"
   ]
  },
  {
   "cell_type": "code",
   "execution_count": 25,
   "metadata": {},
   "outputs": [],
   "source": [
    "# >1000 --> test size = 0.3\n",
    "\n",
    "# <1000 --> test size = 0.2"
   ]
  },
  {
   "cell_type": "markdown",
   "metadata": {},
   "source": [
    "# Training the Linear Regression model for making predictions"
   ]
  },
  {
   "cell_type": "markdown",
   "metadata": {},
   "source": [
    "This markdown represents a code snippet in Python where a Linear Regression model is created and trained using the `LinearRegression` class from scikit-learn library. The model is then fitted with training data (`X_train` and `Y_train`). Finally, the intercept and coefficients of the trained model are printed using the `intercept_` and `coef_` attributes of the model, respectively."
   ]
  },
  {
   "cell_type": "code",
   "execution_count": 26,
   "metadata": {},
   "outputs": [
    {
     "name": "stdout",
     "output_type": "stream",
     "text": [
      "3.2170261085129717\n",
      "[0.04372065 0.19242472]\n"
     ]
    }
   ],
   "source": [
    "from sklearn.linear_model import LinearRegression\n",
    "\n",
    "#create a model object\n",
    "lm=LinearRegression()\n",
    "\n",
    "#train the model object\n",
    "lm.fit(X_train,Y_train)\n",
    "\n",
    "\n",
    "#print intercept and coefficients\n",
    "print(lm.intercept_)\n",
    "print(lm.coef_)"
   ]
  },
  {
   "cell_type": "markdown",
   "metadata": {},
   "source": [
    "In this code snippet, a Linear Regression model object (`lm`) is created and trained using the `fit` method with the training data (`X_train` and `Y_train`). <br>After training, the intercept and coefficients of the linear regression model are printed. <br>The intercept represents the value of the dependent variable when all independent variables are set to zero, while the coefficients represent the change in the dependent variable for a one-unit change in the corresponding independent variable."
   ]
  },
  {
   "cell_type": "code",
   "execution_count": 27,
   "metadata": {},
   "outputs": [
    {
     "name": "stdout",
     "output_type": "stream",
     "text": [
      "[('TV', 0.04372064804168898), ('radio', 0.19242471657994656)]\n"
     ]
    }
   ],
   "source": [
    "#pair the feature names with the coefficients\n",
    "print(list(zip(X.columns,lm.coef_)))"
   ]
  },
  {
   "cell_type": "markdown",
   "metadata": {},
   "source": [
    "This code snippet prints the coefficients of the linear regression model alongside their corresponding feature names. The `zip` function is used to pair each feature name from the `X.columns` attribute with its corresponding coefficient from `lm.coef_`. The result is a list of tuples where each tuple contains a feature name and its coefficient. This information helps to understand the contribution of each feature to the model's prediction."
   ]
  },
  {
   "cell_type": "code",
   "execution_count": 28,
   "metadata": {},
   "outputs": [
    {
     "name": "stdout",
     "output_type": "stream",
     "text": [
      "46.33495733824791\n"
     ]
    }
   ],
   "source": [
    "X1 = 100\n",
    "X2 = 200\n",
    "X3 = np.log1p(0)\n",
    "Y_pred = 3.353291385815158 + (0.04374250157742163 * X1) + (0.19303707897345293 * X2) + (-0.04895136822248805*X3)\n",
    "print(Y_pred)"
   ]
  },
  {
   "cell_type": "markdown",
   "metadata": {},
   "source": [
    "This code block calculates the predicted value of the dependent variable (Y_pred) using the provided coefficients and default values for the independent variables (X1, X2, and X3). The linear regression equation used for prediction is:\n",
    "\n",
    "\\[ Y_{pred} = 3.353291385815158 + (0.04374250157742163 \\times X1) + (0.19303707897345293 \\times X2) + (-0.04895136822248805 \\times X3) \\]\n",
    "\n",
    "The resulting value of Y_pred is printed to the console."
   ]
  },
  {
   "cell_type": "code",
   "execution_count": 29,
   "metadata": {},
   "outputs": [
    {
     "name": "stdout",
     "output_type": "stream",
     "text": [
      "[18.10549579 13.00696439 18.09578029 23.69803999 20.70228503 14.25602829\n",
      " 14.93688357 21.418844   21.14310766 12.80131575 24.02246336  7.2230243\n",
      " 12.36486517 19.24592959 19.46623318 13.40290827 19.55950449  9.20661663\n",
      " 21.09644597 20.85811367 15.48792533 10.86764934 22.85776684 15.86934534\n",
      " 17.41104133  8.21459064 11.84083864 12.72488631 21.69123531  7.94168761\n",
      " 12.51565024 20.43974568  4.72722348  4.75607372 16.71555983 15.75710627\n",
      "  6.72342208 17.68650834  9.04377293 13.59474227]\n"
     ]
    }
   ],
   "source": [
    "#using the model\n",
    "Y_pred = lm.predict(X_test)\n",
    "print(Y_pred)"
   ]
  },
  {
   "cell_type": "markdown",
   "metadata": {},
   "source": [
    "This code block calculates the predicted values of the dependent variable (Y_pred) using the trained linear regression model (lm) and the independent variables (features) from the test dataset (X_test). The predicted values are then printed to the console."
   ]
  },
  {
   "cell_type": "code",
   "execution_count": 30,
   "metadata": {},
   "outputs": [],
   "source": [
    "new_df=pd.DataFrame()\n",
    "new_df=X_test.copy()\n",
    "\n",
    "new_df[\"Actual Sales\"]=Y_test\n",
    "new_df[\"Predicted Sales\"]=Y_pred\n",
    "new_df = new_df.reset_index().drop(\"index\",axis=1)"
   ]
  },
  {
   "cell_type": "markdown",
   "metadata": {},
   "source": [
    "This code block creates a new DataFrame `new_df` by copying the independent variables (features) from the test dataset (`X_test`). It then adds two new columns to `new_df`:\n",
    "\n",
    "- **\"Actual Sales\"**: Contains the actual values of the dependent variable (`Y_test`).\n",
    "- **\"Predicted Sales\"**: Contains the predicted values of the dependent variable (`Y_pred`) generated by the linear regression model.\n",
    "\n",
    "Finally, it resets the index of `new_df` and drops the old index column.\n"
   ]
  },
  {
   "cell_type": "code",
   "execution_count": 31,
   "metadata": {},
   "outputs": [
    {
     "data": {
      "text/html": [
       "<div>\n",
       "<style scoped>\n",
       "    .dataframe tbody tr th:only-of-type {\n",
       "        vertical-align: middle;\n",
       "    }\n",
       "\n",
       "    .dataframe tbody tr th {\n",
       "        vertical-align: top;\n",
       "    }\n",
       "\n",
       "    .dataframe thead th {\n",
       "        text-align: right;\n",
       "    }\n",
       "</style>\n",
       "<table border=\"1\" class=\"dataframe\">\n",
       "  <thead>\n",
       "    <tr style=\"text-align: right;\">\n",
       "      <th></th>\n",
       "      <th>TV</th>\n",
       "      <th>radio</th>\n",
       "      <th>Actual Sales</th>\n",
       "      <th>Predicted Sales</th>\n",
       "    </tr>\n",
       "  </thead>\n",
       "  <tbody>\n",
       "    <tr>\n",
       "      <th>0</th>\n",
       "      <td>210.7</td>\n",
       "      <td>29.5</td>\n",
       "      <td>18.4</td>\n",
       "      <td>18.105496</td>\n",
       "    </tr>\n",
       "    <tr>\n",
       "      <th>1</th>\n",
       "      <td>8.7</td>\n",
       "      <td>48.9</td>\n",
       "      <td>7.2</td>\n",
       "      <td>13.006964</td>\n",
       "    </tr>\n",
       "    <tr>\n",
       "      <th>2</th>\n",
       "      <td>218.4</td>\n",
       "      <td>27.7</td>\n",
       "      <td>18.0</td>\n",
       "      <td>18.095780</td>\n",
       "    </tr>\n",
       "    <tr>\n",
       "      <th>3</th>\n",
       "      <td>283.6</td>\n",
       "      <td>42.0</td>\n",
       "      <td>25.5</td>\n",
       "      <td>23.698040</td>\n",
       "    </tr>\n",
       "    <tr>\n",
       "      <th>4</th>\n",
       "      <td>216.4</td>\n",
       "      <td>41.7</td>\n",
       "      <td>22.6</td>\n",
       "      <td>20.702285</td>\n",
       "    </tr>\n",
       "    <tr>\n",
       "      <th>5</th>\n",
       "      <td>147.3</td>\n",
       "      <td>23.9</td>\n",
       "      <td>14.6</td>\n",
       "      <td>14.256028</td>\n",
       "    </tr>\n",
       "    <tr>\n",
       "      <th>6</th>\n",
       "      <td>188.4</td>\n",
       "      <td>18.1</td>\n",
       "      <td>14.9</td>\n",
       "      <td>14.936884</td>\n",
       "    </tr>\n",
       "    <tr>\n",
       "      <th>7</th>\n",
       "      <td>198.9</td>\n",
       "      <td>49.4</td>\n",
       "      <td>23.7</td>\n",
       "      <td>21.418844</td>\n",
       "    </tr>\n",
       "    <tr>\n",
       "      <th>8</th>\n",
       "      <td>216.8</td>\n",
       "      <td>43.9</td>\n",
       "      <td>22.3</td>\n",
       "      <td>21.143108</td>\n",
       "    </tr>\n",
       "    <tr>\n",
       "      <th>9</th>\n",
       "      <td>17.2</td>\n",
       "      <td>45.9</td>\n",
       "      <td>9.3</td>\n",
       "      <td>12.801316</td>\n",
       "    </tr>\n",
       "    <tr>\n",
       "      <th>10</th>\n",
       "      <td>289.7</td>\n",
       "      <td>42.3</td>\n",
       "      <td>25.4</td>\n",
       "      <td>24.022463</td>\n",
       "    </tr>\n",
       "    <tr>\n",
       "      <th>11</th>\n",
       "      <td>66.1</td>\n",
       "      <td>5.8</td>\n",
       "      <td>8.6</td>\n",
       "      <td>7.223024</td>\n",
       "    </tr>\n",
       "    <tr>\n",
       "      <th>12</th>\n",
       "      <td>16.9</td>\n",
       "      <td>43.7</td>\n",
       "      <td>8.7</td>\n",
       "      <td>12.364865</td>\n",
       "    </tr>\n",
       "    <tr>\n",
       "      <th>13</th>\n",
       "      <td>220.5</td>\n",
       "      <td>33.2</td>\n",
       "      <td>20.1</td>\n",
       "      <td>19.245930</td>\n",
       "    </tr>\n",
       "    <tr>\n",
       "      <th>14</th>\n",
       "      <td>229.5</td>\n",
       "      <td>32.3</td>\n",
       "      <td>19.7</td>\n",
       "      <td>19.466233</td>\n",
       "    </tr>\n",
       "    <tr>\n",
       "      <th>15</th>\n",
       "      <td>102.7</td>\n",
       "      <td>29.6</td>\n",
       "      <td>14.0</td>\n",
       "      <td>13.402908</td>\n",
       "    </tr>\n",
       "    <tr>\n",
       "      <th>16</th>\n",
       "      <td>255.4</td>\n",
       "      <td>26.9</td>\n",
       "      <td>19.8</td>\n",
       "      <td>19.559504</td>\n",
       "    </tr>\n",
       "    <tr>\n",
       "      <th>17</th>\n",
       "      <td>5.4</td>\n",
       "      <td>29.9</td>\n",
       "      <td>5.3</td>\n",
       "      <td>9.206617</td>\n",
       "    </tr>\n",
       "    <tr>\n",
       "      <th>18</th>\n",
       "      <td>241.7</td>\n",
       "      <td>38.0</td>\n",
       "      <td>21.8</td>\n",
       "      <td>21.096446</td>\n",
       "    </tr>\n",
       "    <tr>\n",
       "      <th>19</th>\n",
       "      <td>205.0</td>\n",
       "      <td>45.1</td>\n",
       "      <td>22.6</td>\n",
       "      <td>20.858114</td>\n",
       "    </tr>\n",
       "    <tr>\n",
       "      <th>20</th>\n",
       "      <td>187.8</td>\n",
       "      <td>21.1</td>\n",
       "      <td>15.6</td>\n",
       "      <td>15.487925</td>\n",
       "    </tr>\n",
       "    <tr>\n",
       "      <th>21</th>\n",
       "      <td>0.7</td>\n",
       "      <td>39.6</td>\n",
       "      <td>1.6</td>\n",
       "      <td>10.867649</td>\n",
       "    </tr>\n",
       "    <tr>\n",
       "      <th>22</th>\n",
       "      <td>261.3</td>\n",
       "      <td>42.7</td>\n",
       "      <td>24.2</td>\n",
       "      <td>22.857767</td>\n",
       "    </tr>\n",
       "    <tr>\n",
       "      <th>23</th>\n",
       "      <td>110.7</td>\n",
       "      <td>40.6</td>\n",
       "      <td>16.0</td>\n",
       "      <td>15.869345</td>\n",
       "    </tr>\n",
       "    <tr>\n",
       "      <th>24</th>\n",
       "      <td>280.2</td>\n",
       "      <td>10.1</td>\n",
       "      <td>14.8</td>\n",
       "      <td>17.411041</td>\n",
       "    </tr>\n",
       "    <tr>\n",
       "      <th>25</th>\n",
       "      <td>18.8</td>\n",
       "      <td>21.7</td>\n",
       "      <td>7.0</td>\n",
       "      <td>8.214591</td>\n",
       "    </tr>\n",
       "    <tr>\n",
       "      <th>26</th>\n",
       "      <td>25.6</td>\n",
       "      <td>39.0</td>\n",
       "      <td>9.5</td>\n",
       "      <td>11.840839</td>\n",
       "    </tr>\n",
       "    <tr>\n",
       "      <th>27</th>\n",
       "      <td>44.5</td>\n",
       "      <td>39.3</td>\n",
       "      <td>10.4</td>\n",
       "      <td>12.724886</td>\n",
       "    </tr>\n",
       "    <tr>\n",
       "      <th>28</th>\n",
       "      <td>239.9</td>\n",
       "      <td>41.5</td>\n",
       "      <td>23.2</td>\n",
       "      <td>21.691235</td>\n",
       "    </tr>\n",
       "    <tr>\n",
       "      <th>29</th>\n",
       "      <td>19.6</td>\n",
       "      <td>20.1</td>\n",
       "      <td>7.6</td>\n",
       "      <td>7.941688</td>\n",
       "    </tr>\n",
       "    <tr>\n",
       "      <th>30</th>\n",
       "      <td>131.7</td>\n",
       "      <td>18.4</td>\n",
       "      <td>12.9</td>\n",
       "      <td>12.515650</td>\n",
       "    </tr>\n",
       "    <tr>\n",
       "      <th>31</th>\n",
       "      <td>228.0</td>\n",
       "      <td>37.7</td>\n",
       "      <td>21.5</td>\n",
       "      <td>20.439746</td>\n",
       "    </tr>\n",
       "    <tr>\n",
       "      <th>32</th>\n",
       "      <td>27.5</td>\n",
       "      <td>1.6</td>\n",
       "      <td>6.9</td>\n",
       "      <td>4.727223</td>\n",
       "    </tr>\n",
       "    <tr>\n",
       "      <th>33</th>\n",
       "      <td>28.6</td>\n",
       "      <td>1.5</td>\n",
       "      <td>7.3</td>\n",
       "      <td>4.756074</td>\n",
       "    </tr>\n",
       "    <tr>\n",
       "      <th>34</th>\n",
       "      <td>290.7</td>\n",
       "      <td>4.1</td>\n",
       "      <td>12.8</td>\n",
       "      <td>16.715560</td>\n",
       "    </tr>\n",
       "    <tr>\n",
       "      <th>35</th>\n",
       "      <td>276.7</td>\n",
       "      <td>2.3</td>\n",
       "      <td>11.8</td>\n",
       "      <td>15.757106</td>\n",
       "    </tr>\n",
       "    <tr>\n",
       "      <th>36</th>\n",
       "      <td>80.2</td>\n",
       "      <td>0.0</td>\n",
       "      <td>8.8</td>\n",
       "      <td>6.723422</td>\n",
       "    </tr>\n",
       "    <tr>\n",
       "      <th>37</th>\n",
       "      <td>284.3</td>\n",
       "      <td>10.6</td>\n",
       "      <td>15.0</td>\n",
       "      <td>17.686508</td>\n",
       "    </tr>\n",
       "    <tr>\n",
       "      <th>38</th>\n",
       "      <td>89.7</td>\n",
       "      <td>9.9</td>\n",
       "      <td>10.6</td>\n",
       "      <td>9.043773</td>\n",
       "    </tr>\n",
       "    <tr>\n",
       "      <th>39</th>\n",
       "      <td>222.4</td>\n",
       "      <td>3.4</td>\n",
       "      <td>11.5</td>\n",
       "      <td>13.594742</td>\n",
       "    </tr>\n",
       "  </tbody>\n",
       "</table>\n",
       "</div>"
      ],
      "text/plain": [
       "       TV  radio  Actual Sales  Predicted Sales\n",
       "0   210.7   29.5          18.4        18.105496\n",
       "1     8.7   48.9           7.2        13.006964\n",
       "2   218.4   27.7          18.0        18.095780\n",
       "3   283.6   42.0          25.5        23.698040\n",
       "4   216.4   41.7          22.6        20.702285\n",
       "5   147.3   23.9          14.6        14.256028\n",
       "6   188.4   18.1          14.9        14.936884\n",
       "7   198.9   49.4          23.7        21.418844\n",
       "8   216.8   43.9          22.3        21.143108\n",
       "9    17.2   45.9           9.3        12.801316\n",
       "10  289.7   42.3          25.4        24.022463\n",
       "11   66.1    5.8           8.6         7.223024\n",
       "12   16.9   43.7           8.7        12.364865\n",
       "13  220.5   33.2          20.1        19.245930\n",
       "14  229.5   32.3          19.7        19.466233\n",
       "15  102.7   29.6          14.0        13.402908\n",
       "16  255.4   26.9          19.8        19.559504\n",
       "17    5.4   29.9           5.3         9.206617\n",
       "18  241.7   38.0          21.8        21.096446\n",
       "19  205.0   45.1          22.6        20.858114\n",
       "20  187.8   21.1          15.6        15.487925\n",
       "21    0.7   39.6           1.6        10.867649\n",
       "22  261.3   42.7          24.2        22.857767\n",
       "23  110.7   40.6          16.0        15.869345\n",
       "24  280.2   10.1          14.8        17.411041\n",
       "25   18.8   21.7           7.0         8.214591\n",
       "26   25.6   39.0           9.5        11.840839\n",
       "27   44.5   39.3          10.4        12.724886\n",
       "28  239.9   41.5          23.2        21.691235\n",
       "29   19.6   20.1           7.6         7.941688\n",
       "30  131.7   18.4          12.9        12.515650\n",
       "31  228.0   37.7          21.5        20.439746\n",
       "32   27.5    1.6           6.9         4.727223\n",
       "33   28.6    1.5           7.3         4.756074\n",
       "34  290.7    4.1          12.8        16.715560\n",
       "35  276.7    2.3          11.8        15.757106\n",
       "36   80.2    0.0           8.8         6.723422\n",
       "37  284.3   10.6          15.0        17.686508\n",
       "38   89.7    9.9          10.6         9.043773\n",
       "39  222.4    3.4          11.5        13.594742"
      ]
     },
     "execution_count": 31,
     "metadata": {},
     "output_type": "execute_result"
    }
   ],
   "source": [
    "new_df"
   ]
  },
  {
   "cell_type": "code",
   "execution_count": 32,
   "metadata": {},
   "outputs": [
    {
     "data": {
      "image/png": "[encoded data removed]",
      "text/plain": [
       "<Figure size 432x288 with 1 Axes>"
      ]
     },
     "metadata": {
      "needs_background": "light"
     },
     "output_type": "display_data"
    }
   ],
   "source": [
    "new_df[\"Actual Sales\"].plot(color=\"blue\")\n",
    "new_df[\"Predicted Sales\"].plot(color=\"red\")\n",
    "plt.show()"
   ]
  },
  {
   "cell_type": "markdown",
   "metadata": {},
   "source": [
    "The DataFrame `new_df` contains the actual and predicted sales values for a subset of the test dataset. The \"Actual Sales\" column represents the true sales values, while the \"Predicted Sales\" column contains the sales values predicted by the trained linear regression model.\n",
    "\n",
    "Upon visualizing the actual and predicted sales values using a line plot, we can observe the following insights:\n",
    "\n",
    "- Overall, the predicted sales values (in red) closely follow the trend of the actual sales values (in blue), indicating that the linear regression model has captured the underlying relationship between the independent variables (TV and radio advertising expenditures) and the dependent variable (sales).\n",
    "\n",
    "- In some cases, such as for rows 1, 4, and 36, the predicted sales values deviate slightly from the actual sales values. These deviations could be due to factors not accounted for in the model or inherent variability in the data.\n",
    "\n",
    "- However, for many instances, such as rows 3, 10, 14, and 28, the predicted sales values align closely with the actual sales values, indicating that the model's predictions are accurate for these data points.\n",
    "\n",
    "- Overall, the model appears to provide reasonable predictions of sales based on the advertising expenditures on TV and radio, as evidenced by the close alignment between the actual and predicted sales values in the majority of cases.\n",
    "\n",
    "- Further analysis, such as evaluating the model's performance metrics (e.g., R-squared, mean squared error), could provide additional insights into the model's predictive accuracy and effectiveness.\n"
   ]
  },
  {
   "cell_type": "code",
   "execution_count": 33,
   "metadata": {
    "scrolled": true
   },
   "outputs": [
    {
     "data": {
      "text/plain": [
       "0.9208213397821704"
      ]
     },
     "execution_count": 33,
     "metadata": {},
     "output_type": "execute_result"
    }
   ],
   "source": [
    "lm.score(X_train, Y_train)"
   ]
  },
  {
   "cell_type": "markdown",
   "metadata": {},
   "source": [
    "The `score` method of the linear regression model (`lm`) calculates the coefficient of determination (R-squared) for the trained model on the training dataset. \n",
    "\n",
    "The R-squared value measures the proportion of the variance in the dependent variable (Y) that is predictable from the independent variables (X). \n",
    "\n",
    "In this case, the R-squared value is approximately 0.921, indicating that approximately 92.1% of the variance in the sales values (Y) can be explained by the independent variables (TV and radio advertising expenditures) included in the model. \n",
    "\n",
    "A higher R-squared value closer to 1 indicates a better fit of the model to the data, suggesting that the model captures a significant portion of the variability in the sales data.\n"
   ]
  },
  {
   "cell_type": "code",
   "execution_count": 34,
   "metadata": {},
   "outputs": [
    {
     "data": {
      "text/plain": [
       "0.8354496662944217"
      ]
     },
     "execution_count": 34,
     "metadata": {},
     "output_type": "execute_result"
    }
   ],
   "source": [
    "lm.score(X_test,Y_test)"
   ]
  },
  {
   "cell_type": "markdown",
   "metadata": {},
   "source": [
    "The `score` method of the linear regression model (`lm`) calculates the coefficient of determination (R-squared) for the trained model on the test dataset.\n",
    "\n",
    "The R-squared value measures the proportion of the variance in the dependent variable (Y) that is predictable from the independent variables (X).\n",
    "\n",
    "In this case, the R-squared value is approximately 0.835, indicating that approximately 83.5% of the variance in the sales values (Y) in the test dataset can be explained by the independent variables (TV and radio advertising expenditures) included in the model.\n",
    "\n",
    "A higher R-squared value closer to 1 indicates a better fit of the model to the data, suggesting that the model performs well in predicting sales values in the test dataset.\n"
   ]
  },
  {
   "cell_type": "code",
   "execution_count": 35,
   "metadata": {},
   "outputs": [
    {
     "name": "stdout",
     "output_type": "stream",
     "text": [
      "R-Squared : 0.8354496662944217\n",
      "RMSE : 2.5878817077378105\n",
      "Adj R-Square : 0.8337791045309133\n"
     ]
    }
   ],
   "source": [
    "from sklearn.metrics import r2_score, mean_squared_error\n",
    "import numpy as np \n",
    "\n",
    "r2=r2_score(Y_test,Y_pred)\n",
    "print(\"R-Squared :\",r2)\n",
    "\n",
    "rmse=np.sqrt(mean_squared_error(Y_test,Y_pred))\n",
    "print(\"RMSE :\",rmse)\n",
    "\n",
    "adjusted_r_squared = 1-(1-r2)*(len(Y)-1)/(len(Y)-X.shape[1]-1)\n",
    "print(\"Adj R-Square :\",adjusted_r_squared)"
   ]
  },
  {
   "cell_type": "markdown",
   "metadata": {},
   "source": [
    "The R-squared value, Root Mean Squared Error (RMSE), and Adjusted R-squared value are common metrics used to evaluate the performance of regression models:\n",
    "\n",
    "- R-squared (R2): It measures the proportion of the variance in the dependent variable (Y) that is explained by the independent variables (X) in the model. In this case, the R-squared value is approximately 0.835, indicating that about 83.5% of the variance in the sales values (Y) in the test dataset can be explained by the independent variables (TV and radio advertising expenditures) included in the model.\n",
    "\n",
    "- RMSE (Root Mean Squared Error): It represents the square root of the average squared differences between the predicted and actual values. Here, the RMSE value is approximately 2.588, indicating the average deviation between the predicted and actual sales values in the test dataset.\n",
    "\n",
    "- Adjusted R-squared: It adjusts the R-squared value based on the number of predictors in the model and the sample size. This adjusted R-squared value takes into account the degrees of freedom and provides a more accurate measure of model fit, especially when comparing models with different numbers of predictors. In this case, the adjusted R-squared value is approximately 0.834, which is slightly lower than the R-squared value, indicating a minor penalty for the inclusion of multiple predictors in the model.\n",
    "\n",
    "These metrics collectively provide insights into the overall performance and accuracy of the linear regression model in predicting sales values based on TV and radio advertising expenditures.\n"
   ]
  },
  {
   "cell_type": "code",
   "execution_count": 36,
   "metadata": {},
   "outputs": [
    {
     "name": "stdout",
     "output_type": "stream",
     "text": [
      "1.6\n",
      "25.5\n"
     ]
    }
   ],
   "source": [
    "print(Y_test.min())\n",
    "print(Y_test.max())"
   ]
  },
  {
   "cell_type": "markdown",
   "metadata": {},
   "source": [
    "Based on the evaluation metrics of the linear regression model:\n",
    "\n",
    "- The R-squared (R2) value is close to 1, indicating that a high proportion of the variance in the sales values can be explained by the independent variables (TV and radio advertising expenditures) included in the model.\n",
    "\n",
    "- The R-squared (R2) value and the adjusted R-squared value are close to each other, suggesting that the inclusion of multiple predictors in the model has a minor impact on the model's fit.\n",
    "\n",
    "- The Root Mean Squared Error (RMSE) value is lower, indicating that the average deviation between the predicted and actual sales values in the test dataset is relatively small.\n",
    "\n",
    "Considering these factors, we can conclude that the linear regression model provides a good fit to the data and effectively predicts sales values based on TV and radio advertising expenditures.\n"
   ]
  },
  {
   "cell_type": "code",
   "execution_count": 37,
   "metadata": {},
   "outputs": [],
   "source": [
    "new_df[\"Deviation\"]=new_df[\"Actual Sales\"] - new_df[\"Predicted Sales\"]\n",
    "new_df.to_excel(\"Sales Prediction.xlsx\", header=True, index=False)"
   ]
  },
  {
   "cell_type": "markdown",
   "metadata": {},
   "source": [
    "A new column \"Deviation\" has been added to the dataframe \"new_df\", representing the difference between the actual sales values and the predicted sales values. The dataframe has been saved to an Excel file named \"Sales Prediction.xlsx\" with headers included and index excluded.\n"
   ]
  },
  {
   "cell_type": "code",
   "execution_count": 38,
   "metadata": {},
   "outputs": [
    {
     "data": {
      "text/html": [
       "<div>\n",
       "<style scoped>\n",
       "    .dataframe tbody tr th:only-of-type {\n",
       "        vertical-align: middle;\n",
       "    }\n",
       "\n",
       "    .dataframe tbody tr th {\n",
       "        vertical-align: top;\n",
       "    }\n",
       "\n",
       "    .dataframe thead th {\n",
       "        text-align: right;\n",
       "    }\n",
       "</style>\n",
       "<table border=\"1\" class=\"dataframe\">\n",
       "  <thead>\n",
       "    <tr style=\"text-align: right;\">\n",
       "      <th></th>\n",
       "      <th>TV</th>\n",
       "      <th>radio</th>\n",
       "      <th>Actual Sales</th>\n",
       "      <th>Predicted Sales</th>\n",
       "      <th>Deviation</th>\n",
       "    </tr>\n",
       "  </thead>\n",
       "  <tbody>\n",
       "    <tr>\n",
       "      <th>0</th>\n",
       "      <td>210.7</td>\n",
       "      <td>29.5</td>\n",
       "      <td>18.4</td>\n",
       "      <td>18.105496</td>\n",
       "      <td>0.294504</td>\n",
       "    </tr>\n",
       "    <tr>\n",
       "      <th>1</th>\n",
       "      <td>8.7</td>\n",
       "      <td>48.9</td>\n",
       "      <td>7.2</td>\n",
       "      <td>13.006964</td>\n",
       "      <td>-5.806964</td>\n",
       "    </tr>\n",
       "    <tr>\n",
       "      <th>2</th>\n",
       "      <td>218.4</td>\n",
       "      <td>27.7</td>\n",
       "      <td>18.0</td>\n",
       "      <td>18.095780</td>\n",
       "      <td>-0.095780</td>\n",
       "    </tr>\n",
       "    <tr>\n",
       "      <th>3</th>\n",
       "      <td>283.6</td>\n",
       "      <td>42.0</td>\n",
       "      <td>25.5</td>\n",
       "      <td>23.698040</td>\n",
       "      <td>1.801960</td>\n",
       "    </tr>\n",
       "    <tr>\n",
       "      <th>4</th>\n",
       "      <td>216.4</td>\n",
       "      <td>41.7</td>\n",
       "      <td>22.6</td>\n",
       "      <td>20.702285</td>\n",
       "      <td>1.897715</td>\n",
       "    </tr>\n",
       "    <tr>\n",
       "      <th>5</th>\n",
       "      <td>147.3</td>\n",
       "      <td>23.9</td>\n",
       "      <td>14.6</td>\n",
       "      <td>14.256028</td>\n",
       "      <td>0.343972</td>\n",
       "    </tr>\n",
       "    <tr>\n",
       "      <th>6</th>\n",
       "      <td>188.4</td>\n",
       "      <td>18.1</td>\n",
       "      <td>14.9</td>\n",
       "      <td>14.936884</td>\n",
       "      <td>-0.036884</td>\n",
       "    </tr>\n",
       "    <tr>\n",
       "      <th>7</th>\n",
       "      <td>198.9</td>\n",
       "      <td>49.4</td>\n",
       "      <td>23.7</td>\n",
       "      <td>21.418844</td>\n",
       "      <td>2.281156</td>\n",
       "    </tr>\n",
       "    <tr>\n",
       "      <th>8</th>\n",
       "      <td>216.8</td>\n",
       "      <td>43.9</td>\n",
       "      <td>22.3</td>\n",
       "      <td>21.143108</td>\n",
       "      <td>1.156892</td>\n",
       "    </tr>\n",
       "    <tr>\n",
       "      <th>9</th>\n",
       "      <td>17.2</td>\n",
       "      <td>45.9</td>\n",
       "      <td>9.3</td>\n",
       "      <td>12.801316</td>\n",
       "      <td>-3.501316</td>\n",
       "    </tr>\n",
       "    <tr>\n",
       "      <th>10</th>\n",
       "      <td>289.7</td>\n",
       "      <td>42.3</td>\n",
       "      <td>25.4</td>\n",
       "      <td>24.022463</td>\n",
       "      <td>1.377537</td>\n",
       "    </tr>\n",
       "    <tr>\n",
       "      <th>11</th>\n",
       "      <td>66.1</td>\n",
       "      <td>5.8</td>\n",
       "      <td>8.6</td>\n",
       "      <td>7.223024</td>\n",
       "      <td>1.376976</td>\n",
       "    </tr>\n",
       "    <tr>\n",
       "      <th>12</th>\n",
       "      <td>16.9</td>\n",
       "      <td>43.7</td>\n",
       "      <td>8.7</td>\n",
       "      <td>12.364865</td>\n",
       "      <td>-3.664865</td>\n",
       "    </tr>\n",
       "    <tr>\n",
       "      <th>13</th>\n",
       "      <td>220.5</td>\n",
       "      <td>33.2</td>\n",
       "      <td>20.1</td>\n",
       "      <td>19.245930</td>\n",
       "      <td>0.854070</td>\n",
       "    </tr>\n",
       "    <tr>\n",
       "      <th>14</th>\n",
       "      <td>229.5</td>\n",
       "      <td>32.3</td>\n",
       "      <td>19.7</td>\n",
       "      <td>19.466233</td>\n",
       "      <td>0.233767</td>\n",
       "    </tr>\n",
       "    <tr>\n",
       "      <th>15</th>\n",
       "      <td>102.7</td>\n",
       "      <td>29.6</td>\n",
       "      <td>14.0</td>\n",
       "      <td>13.402908</td>\n",
       "      <td>0.597092</td>\n",
       "    </tr>\n",
       "    <tr>\n",
       "      <th>16</th>\n",
       "      <td>255.4</td>\n",
       "      <td>26.9</td>\n",
       "      <td>19.8</td>\n",
       "      <td>19.559504</td>\n",
       "      <td>0.240496</td>\n",
       "    </tr>\n",
       "    <tr>\n",
       "      <th>17</th>\n",
       "      <td>5.4</td>\n",
       "      <td>29.9</td>\n",
       "      <td>5.3</td>\n",
       "      <td>9.206617</td>\n",
       "      <td>-3.906617</td>\n",
       "    </tr>\n",
       "    <tr>\n",
       "      <th>18</th>\n",
       "      <td>241.7</td>\n",
       "      <td>38.0</td>\n",
       "      <td>21.8</td>\n",
       "      <td>21.096446</td>\n",
       "      <td>0.703554</td>\n",
       "    </tr>\n",
       "    <tr>\n",
       "      <th>19</th>\n",
       "      <td>205.0</td>\n",
       "      <td>45.1</td>\n",
       "      <td>22.6</td>\n",
       "      <td>20.858114</td>\n",
       "      <td>1.741886</td>\n",
       "    </tr>\n",
       "    <tr>\n",
       "      <th>20</th>\n",
       "      <td>187.8</td>\n",
       "      <td>21.1</td>\n",
       "      <td>15.6</td>\n",
       "      <td>15.487925</td>\n",
       "      <td>0.112075</td>\n",
       "    </tr>\n",
       "    <tr>\n",
       "      <th>21</th>\n",
       "      <td>0.7</td>\n",
       "      <td>39.6</td>\n",
       "      <td>1.6</td>\n",
       "      <td>10.867649</td>\n",
       "      <td>-9.267649</td>\n",
       "    </tr>\n",
       "    <tr>\n",
       "      <th>22</th>\n",
       "      <td>261.3</td>\n",
       "      <td>42.7</td>\n",
       "      <td>24.2</td>\n",
       "      <td>22.857767</td>\n",
       "      <td>1.342233</td>\n",
       "    </tr>\n",
       "    <tr>\n",
       "      <th>23</th>\n",
       "      <td>110.7</td>\n",
       "      <td>40.6</td>\n",
       "      <td>16.0</td>\n",
       "      <td>15.869345</td>\n",
       "      <td>0.130655</td>\n",
       "    </tr>\n",
       "    <tr>\n",
       "      <th>24</th>\n",
       "      <td>280.2</td>\n",
       "      <td>10.1</td>\n",
       "      <td>14.8</td>\n",
       "      <td>17.411041</td>\n",
       "      <td>-2.611041</td>\n",
       "    </tr>\n",
       "    <tr>\n",
       "      <th>25</th>\n",
       "      <td>18.8</td>\n",
       "      <td>21.7</td>\n",
       "      <td>7.0</td>\n",
       "      <td>8.214591</td>\n",
       "      <td>-1.214591</td>\n",
       "    </tr>\n",
       "    <tr>\n",
       "      <th>26</th>\n",
       "      <td>25.6</td>\n",
       "      <td>39.0</td>\n",
       "      <td>9.5</td>\n",
       "      <td>11.840839</td>\n",
       "      <td>-2.340839</td>\n",
       "    </tr>\n",
       "    <tr>\n",
       "      <th>27</th>\n",
       "      <td>44.5</td>\n",
       "      <td>39.3</td>\n",
       "      <td>10.4</td>\n",
       "      <td>12.724886</td>\n",
       "      <td>-2.324886</td>\n",
       "    </tr>\n",
       "    <tr>\n",
       "      <th>28</th>\n",
       "      <td>239.9</td>\n",
       "      <td>41.5</td>\n",
       "      <td>23.2</td>\n",
       "      <td>21.691235</td>\n",
       "      <td>1.508765</td>\n",
       "    </tr>\n",
       "    <tr>\n",
       "      <th>29</th>\n",
       "      <td>19.6</td>\n",
       "      <td>20.1</td>\n",
       "      <td>7.6</td>\n",
       "      <td>7.941688</td>\n",
       "      <td>-0.341688</td>\n",
       "    </tr>\n",
       "    <tr>\n",
       "      <th>30</th>\n",
       "      <td>131.7</td>\n",
       "      <td>18.4</td>\n",
       "      <td>12.9</td>\n",
       "      <td>12.515650</td>\n",
       "      <td>0.384350</td>\n",
       "    </tr>\n",
       "    <tr>\n",
       "      <th>31</th>\n",
       "      <td>228.0</td>\n",
       "      <td>37.7</td>\n",
       "      <td>21.5</td>\n",
       "      <td>20.439746</td>\n",
       "      <td>1.060254</td>\n",
       "    </tr>\n",
       "    <tr>\n",
       "      <th>32</th>\n",
       "      <td>27.5</td>\n",
       "      <td>1.6</td>\n",
       "      <td>6.9</td>\n",
       "      <td>4.727223</td>\n",
       "      <td>2.172777</td>\n",
       "    </tr>\n",
       "    <tr>\n",
       "      <th>33</th>\n",
       "      <td>28.6</td>\n",
       "      <td>1.5</td>\n",
       "      <td>7.3</td>\n",
       "      <td>4.756074</td>\n",
       "      <td>2.543926</td>\n",
       "    </tr>\n",
       "    <tr>\n",
       "      <th>34</th>\n",
       "      <td>290.7</td>\n",
       "      <td>4.1</td>\n",
       "      <td>12.8</td>\n",
       "      <td>16.715560</td>\n",
       "      <td>-3.915560</td>\n",
       "    </tr>\n",
       "    <tr>\n",
       "      <th>35</th>\n",
       "      <td>276.7</td>\n",
       "      <td>2.3</td>\n",
       "      <td>11.8</td>\n",
       "      <td>15.757106</td>\n",
       "      <td>-3.957106</td>\n",
       "    </tr>\n",
       "    <tr>\n",
       "      <th>36</th>\n",
       "      <td>80.2</td>\n",
       "      <td>0.0</td>\n",
       "      <td>8.8</td>\n",
       "      <td>6.723422</td>\n",
       "      <td>2.076578</td>\n",
       "    </tr>\n",
       "    <tr>\n",
       "      <th>37</th>\n",
       "      <td>284.3</td>\n",
       "      <td>10.6</td>\n",
       "      <td>15.0</td>\n",
       "      <td>17.686508</td>\n",
       "      <td>-2.686508</td>\n",
       "    </tr>\n",
       "    <tr>\n",
       "      <th>38</th>\n",
       "      <td>89.7</td>\n",
       "      <td>9.9</td>\n",
       "      <td>10.6</td>\n",
       "      <td>9.043773</td>\n",
       "      <td>1.556227</td>\n",
       "    </tr>\n",
       "    <tr>\n",
       "      <th>39</th>\n",
       "      <td>222.4</td>\n",
       "      <td>3.4</td>\n",
       "      <td>11.5</td>\n",
       "      <td>13.594742</td>\n",
       "      <td>-2.094742</td>\n",
       "    </tr>\n",
       "  </tbody>\n",
       "</table>\n",
       "</div>"
      ],
      "text/plain": [
       "       TV  radio  Actual Sales  Predicted Sales  Deviation\n",
       "0   210.7   29.5          18.4        18.105496   0.294504\n",
       "1     8.7   48.9           7.2        13.006964  -5.806964\n",
       "2   218.4   27.7          18.0        18.095780  -0.095780\n",
       "3   283.6   42.0          25.5        23.698040   1.801960\n",
       "4   216.4   41.7          22.6        20.702285   1.897715\n",
       "5   147.3   23.9          14.6        14.256028   0.343972\n",
       "6   188.4   18.1          14.9        14.936884  -0.036884\n",
       "7   198.9   49.4          23.7        21.418844   2.281156\n",
       "8   216.8   43.9          22.3        21.143108   1.156892\n",
       "9    17.2   45.9           9.3        12.801316  -3.501316\n",
       "10  289.7   42.3          25.4        24.022463   1.377537\n",
       "11   66.1    5.8           8.6         7.223024   1.376976\n",
       "12   16.9   43.7           8.7        12.364865  -3.664865\n",
       "13  220.5   33.2          20.1        19.245930   0.854070\n",
       "14  229.5   32.3          19.7        19.466233   0.233767\n",
       "15  102.7   29.6          14.0        13.402908   0.597092\n",
       "16  255.4   26.9          19.8        19.559504   0.240496\n",
       "17    5.4   29.9           5.3         9.206617  -3.906617\n",
       "18  241.7   38.0          21.8        21.096446   0.703554\n",
       "19  205.0   45.1          22.6        20.858114   1.741886\n",
       "20  187.8   21.1          15.6        15.487925   0.112075\n",
       "21    0.7   39.6           1.6        10.867649  -9.267649\n",
       "22  261.3   42.7          24.2        22.857767   1.342233\n",
       "23  110.7   40.6          16.0        15.869345   0.130655\n",
       "24  280.2   10.1          14.8        17.411041  -2.611041\n",
       "25   18.8   21.7           7.0         8.214591  -1.214591\n",
       "26   25.6   39.0           9.5        11.840839  -2.340839\n",
       "27   44.5   39.3          10.4        12.724886  -2.324886\n",
       "28  239.9   41.5          23.2        21.691235   1.508765\n",
       "29   19.6   20.1           7.6         7.941688  -0.341688\n",
       "30  131.7   18.4          12.9        12.515650   0.384350\n",
       "31  228.0   37.7          21.5        20.439746   1.060254\n",
       "32   27.5    1.6           6.9         4.727223   2.172777\n",
       "33   28.6    1.5           7.3         4.756074   2.543926\n",
       "34  290.7    4.1          12.8        16.715560  -3.915560\n",
       "35  276.7    2.3          11.8        15.757106  -3.957106\n",
       "36   80.2    0.0           8.8         6.723422   2.076578\n",
       "37  284.3   10.6          15.0        17.686508  -2.686508\n",
       "38   89.7    9.9          10.6         9.043773   1.556227\n",
       "39  222.4    3.4          11.5        13.594742  -2.094742"
      ]
     },
     "execution_count": 38,
     "metadata": {},
     "output_type": "execute_result"
    }
   ],
   "source": [
    "new_df.head(40)"
   ]
  },
  {
   "cell_type": "code",
   "execution_count": null,
   "metadata": {},
   "outputs": [],
   "source": []
  },
  {
   "cell_type": "markdown",
   "metadata": {},
   "source": [
    "## Introduction to Ridge Regression\n",
    "\n",
    "Ridge regression is a regularization technique used to mitigate the problem of multicollinearity in regression models. It adds a penalty term to the ordinary least squares (OLS) objective function, which helps to shrink the coefficients of the independent variables towards zero. This penalty term is controlled by a hyperparameter called the regularization parameter (alpha).\n",
    "\n",
    "### How Ridge Regression Works\n",
    "\n",
    "- **Objective Function:** Ridge regression modifies the ordinary least squares objective function by adding a penalty term proportional to the square of the magnitude of the coefficients.\n",
    "  \n",
    "- **Regularization Parameter (alpha):** The alpha parameter controls the amount of regularization applied to the model. A higher alpha value results in greater regularization, leading to smaller coefficients.\n",
    "\n",
    "- **Impact on Coefficients:** By penalizing the magnitude of the coefficients, Ridge regression reduces the influence of individual predictors on the model, effectively reducing overfitting and improving the generalization performance.\n",
    "\n",
    "- **Advantages:** Ridge regression helps to stabilize the model by reducing the variance of the coefficient estimates, especially in the presence of multicollinearity.\n",
    "\n",
    "### Implementation in Python\n",
    "\n",
    "In Python, Ridge regression can be implemented using the `Ridge` class from the `sklearn.linear_model` module. It is part of the scikit-learn library, which provides a wide range of tools for machine learning tasks.\n",
    "\n",
    "Now, let's proceed with fitting the Ridge regression model to our data.\n"
   ]
  },
  {
   "cell_type": "code",
   "execution_count": 39,
   "metadata": {},
   "outputs": [
    {
     "name": "stdout",
     "output_type": "stream",
     "text": [
      "3.217150827823975\n",
      "[0.04372067 0.19241894]\n"
     ]
    }
   ],
   "source": [
    "from sklearn.linear_model import Ridge\n",
    "lm = Ridge()\n",
    "lm.fit(X_train, Y_train)\n",
    "\n",
    "\"\"\"\n",
    "previous values:\n",
    "3.3532913858151474\n",
    "[0.0437425  0.19303708  -0.04895137]\n",
    "\n",
    "\"\"\"\n",
    "\n",
    "#print intercept and coefficients \n",
    "print(lm.intercept_)\n",
    "print(lm.coef_)"
   ]
  },
  {
   "cell_type": "markdown",
   "metadata": {},
   "source": [
    "The output from Ridge regression provides us with the intercept value and coefficients for each feature in the dataset. Here are the insights derived from the output:\n",
    "\n",
    "- **Intercept:** The intercept value represents the predicted value of the dependent variable when all independent variables are set to zero.\n",
    "\n",
    "- **Coefficients:** The coefficients represent the change in the dependent variable for a one-unit change in the corresponding independent variable, holding all other variables constant. In Ridge regression, these coefficients are adjusted to minimize the sum of squared residuals plus a penalty term proportional to the square of the coefficients themselves.\n",
    "\n",
    "- **Magnitude of Coefficients:** Compared to the coefficients obtained from ordinary least squares (OLS) regression, the coefficients from Ridge regression tend to be smaller in magnitude due to the regularization penalty. This regularization helps to mitigate the impact of multicollinearity and reduces overfitting.\n",
    "\n",
    "- **Feature Importance:** The magnitude of the coefficients can still provide insights into the importance of each feature in predicting the target variable. Features with larger coefficients have a relatively stronger influence on the prediction outcome.\n",
    "\n",
    "In summary, the Ridge regression model with the provided coefficients can be used to make predictions on new data, taking into account the regularization effect to improve the model's robustness and generalization performance.\n"
   ]
  },
  {
   "cell_type": "code",
   "execution_count": 42,
   "metadata": {},
   "outputs": [],
   "source": [
    "Y_pred = lm.predict(X_test)"
   ]
  },
  {
   "cell_type": "code",
   "execution_count": 43,
   "metadata": {
    "scrolled": true
   },
   "outputs": [
    {
     "name": "stdout",
     "output_type": "stream",
     "text": [
      "R-Squared : 0.8354510844225151\n",
      "RMSE : 2.5878705562695137\n",
      "Adj R-Square : 0.8337805370562462\n"
     ]
    }
   ],
   "source": [
    "from sklearn.metrics import r2_score, mean_squared_error\n",
    "import numpy as np \n",
    "\n",
    "r2=r2_score(Y_test,Y_pred)\n",
    "print(\"R-Squared :\",r2)\n",
    "\n",
    "rmse=np.sqrt(mean_squared_error(Y_test,Y_pred))\n",
    "print(\"RMSE :\",rmse)\n",
    "\n",
    "adjusted_r_squared = 1-(1-r2)*(len(Y)-1)/(len(Y)-X.shape[1]-1)\n",
    "print(\"Adj R-Square :\",adjusted_r_squared)\n",
    "\"\"\"\n",
    "R-Squared : 0.8348010719035319\n",
    "RMSE : 2.592976911093061\n",
    "Adj R-Square : 0.8322725168816472\n",
    "\n",
    "\"\"\";"
   ]
  },
  {
   "cell_type": "markdown",
   "metadata": {},
   "source": [
    "The evaluation metrics for the Ridge regression model are as follows:\n",
    "\n",
    "- **R-Squared (R2) Score:** The R-squared value measures the proportion of the variance in the dependent variable that is predictable from the independent variables. In this case, the R-squared value is approximately 0.835, indicating that the model explains about 83.5% of the variance in the target variable.\n",
    "\n",
    "- **Root Mean Squared Error (RMSE):** The RMSE represents the square root of the mean squared differences between the actual and predicted values. It provides a measure of the model's performance in terms of prediction accuracy. The RMSE value is approximately 2.588, indicating that, on average, the model's predictions deviate from the actual values by about 2.588 units.\n",
    "\n",
    "- **Adjusted R-Squared Score:** The adjusted R-squared value is a modification of the R-squared value that adjusts for the number of predictors in the model. It penalizes the addition of unnecessary predictors that do not improve the model's performance. The adjusted R-squared value is approximately 0.834, which is slightly lower than the R-squared value but still indicates a good fit of the model.\n",
    "\n",
    "Overall, the evaluation metrics suggest that the Ridge regression model performs well in predicting the target variable, with a relatively high R-squared value and low RMSE.\n"
   ]
  },
  {
   "cell_type": "code",
   "execution_count": null,
   "metadata": {},
   "outputs": [],
   "source": []
  },
  {
   "cell_type": "markdown",
   "metadata": {},
   "source": [
    "## Introduction to Lasso Regression\n",
    "\n",
    "Lasso, which stands for Least Absolute Shrinkage and Selection Operator, is a regularization technique used in linear regression. It adds a penalty term to the standard linear regression objective function, which penalizes the absolute value of the coefficients. This penalty encourages sparse solutions by forcing some of the coefficients to be exactly zero, effectively performing variable selection and reducing model complexity.\n",
    "\n",
    "## Explanation of Lasso Regression\n",
    "\n",
    "In Lasso regression, the objective function to be minimized is the sum of the residual sum of squares (RSS) and the penalty term, which is the absolute value of the coefficients multiplied by a constant regularization parameter (alpha). The alpha parameter controls the strength of the penalty and determines the degree of regularization applied to the model. Higher values of alpha result in stronger regularization and more coefficients being pushed towards zero.\n",
    "\n",
    "Lasso regression is particularly useful when dealing with high-dimensional datasets with many features, as it can effectively perform feature selection by shrinking the coefficients of less important features to zero. This helps in improving the model's interpretability and reducing overfitting by removing irrelevant features from the model.\n",
    "\n",
    "Now, let's apply the Lasso regression method to our dataset.\n"
   ]
  },
  {
   "cell_type": "code",
   "execution_count": 44,
   "metadata": {},
   "outputs": [
    {
     "name": "stdout",
     "output_type": "stream",
     "text": [
      "3.336794058220317\n",
      "[0.04362374 0.18766033]\n"
     ]
    }
   ],
   "source": [
    "from sklearn.linear_model import Lasso\n",
    "lm = Lasso()\n",
    "lm.fit(X_train, Y_train)\n",
    "\n",
    "\"\"\"\n",
    "ridge values:\n",
    "3.3522471725965985\n",
    "[ 0.04374234  0.19302603 -0.04853131]\n",
    "\n",
    "\"\"\"\n",
    "\n",
    "#print intercept and coefficients \n",
    "print(lm.intercept_)\n",
    "print(lm.coef_)"
   ]
  },
  {
   "cell_type": "markdown",
   "metadata": {},
   "source": [
    "## Lasso Regression Results\n",
    "\n",
    "After applying the Lasso regression method, the model produced the following coefficient and intercept values:\n",
    "\n",
    "- Intercept: 3.336794058220317\n",
    "- Coefficients:\n",
    "  - TV: 0.04362374\n",
    "  - radio: 0.18766033\n",
    "\n",
    "These values represent the intercept and coefficients of the Lasso regression model, indicating the relationship between the independent variables (TV and radio) and the dependent variable (sales). The Lasso method introduces a regularization penalty that can shrink coefficients towards zero, encouraging sparsity in the model. In this case, the Lasso model has retained the TV and radio features with non-zero coefficients, potentially performing feature selection.\n",
    "\n",
    "Now, let's evaluate the performance of the Lasso regression model.\n"
   ]
  },
  {
   "cell_type": "code",
   "execution_count": 45,
   "metadata": {},
   "outputs": [],
   "source": [
    "Y_pred = lm.predict(X_test)"
   ]
  },
  {
   "cell_type": "code",
   "execution_count": 46,
   "metadata": {},
   "outputs": [
    {
     "name": "stdout",
     "output_type": "stream",
     "text": [
      "R-Squared : 0.8360506658527163\n",
      "RMSE : 2.5831514271094234\n",
      "Adj R-Square : 0.8343862056075662\n"
     ]
    }
   ],
   "source": [
    "from sklearn.metrics import r2_score, mean_squared_error\n",
    "import numpy as np \n",
    "\n",
    "r2=r2_score(Y_test,Y_pred)\n",
    "print(\"R-Squared :\",r2)\n",
    "\n",
    "rmse=np.sqrt(mean_squared_error(Y_test,Y_pred))\n",
    "print(\"RMSE :\",rmse)\n",
    "\n",
    "adjusted_r_squared = 1-(1-r2)*(len(Y)-1)/(len(Y)-X.shape[1]-1)\n",
    "print(\"Adj R-Square :\",adjusted_r_squared)\n",
    "\"\"\"\n",
    "ridge values\n",
    "\n",
    "R-Squared : 0.8348082644975935\n",
    "RMSE : 2.5929204626839977\n",
    "Adj R-Square : 0.8322798195664342\n",
    "\n",
    "\"\"\";"
   ]
  },
  {
   "cell_type": "markdown",
   "metadata": {},
   "source": [
    "## Ridge Regression Evaluation\n",
    "\n",
    "After applying the Ridge regression method, the model's performance was evaluated using the following metrics:\n",
    "\n",
    "- R-Squared (R^2) Score: 0.8348082644975935\n",
    "- Root Mean Squared Error (RMSE): 2.5929204626839977\n",
    "- Adjusted R-Squared: 0.8322798195664342\n",
    "\n",
    "The R-Squared score measures the proportion of variance in the dependent variable (sales) explained by the independent variables (TV and radio). A higher R-Squared value indicates better goodness of fit.\n",
    "\n",
    "The RMSE represents the average deviation of the predicted sales values from the actual sales values. Lower RMSE values indicate better model accuracy.\n",
    "\n",
    "Adjusted R-Squared adjusts the R-Squared value based on the number of predictors in the model, providing a more accurate assessment of model fit, especially when dealing with multiple predictors.\n",
    "\n",
    "Overall, the Ridge regression model demonstrates good performance based on these evaluation metrics.\n"
   ]
  },
  {
   "cell_type": "code",
   "execution_count": null,
   "metadata": {},
   "outputs": [],
   "source": []
  },
  {
   "cell_type": "code",
   "execution_count": null,
   "metadata": {},
   "outputs": [],
   "source": [
    "#OLS --> OLS(Y_train , X_train) \n",
    "#ols --> ols(Y~X1+X2+X3)"
   ]
  },
  {
   "cell_type": "code",
   "execution_count": null,
   "metadata": {},
   "outputs": [],
   "source": [
    "#fit(X_train, Y_train) --> sklearn\n",
    "#Y~X1+X2+X3 , data =df --> statsmodel"
   ]
  },
  {
   "cell_type": "code",
   "execution_count": 47,
   "metadata": {},
   "outputs": [
    {
     "data": {
      "text/html": [
       "<div>\n",
       "<style scoped>\n",
       "    .dataframe tbody tr th:only-of-type {\n",
       "        vertical-align: middle;\n",
       "    }\n",
       "\n",
       "    .dataframe tbody tr th {\n",
       "        vertical-align: top;\n",
       "    }\n",
       "\n",
       "    .dataframe thead th {\n",
       "        text-align: right;\n",
       "    }\n",
       "</style>\n",
       "<table border=\"1\" class=\"dataframe\">\n",
       "  <thead>\n",
       "    <tr style=\"text-align: right;\">\n",
       "      <th></th>\n",
       "      <th>TV</th>\n",
       "      <th>radio</th>\n",
       "      <th>sales</th>\n",
       "    </tr>\n",
       "  </thead>\n",
       "  <tbody>\n",
       "    <tr>\n",
       "      <th>191</th>\n",
       "      <td>39.5</td>\n",
       "      <td>41.1</td>\n",
       "      <td>10.8</td>\n",
       "    </tr>\n",
       "    <tr>\n",
       "      <th>8</th>\n",
       "      <td>120.2</td>\n",
       "      <td>19.6</td>\n",
       "      <td>13.2</td>\n",
       "    </tr>\n",
       "    <tr>\n",
       "      <th>27</th>\n",
       "      <td>142.9</td>\n",
       "      <td>29.3</td>\n",
       "      <td>15.0</td>\n",
       "    </tr>\n",
       "    <tr>\n",
       "      <th>139</th>\n",
       "      <td>43.0</td>\n",
       "      <td>25.9</td>\n",
       "      <td>9.6</td>\n",
       "    </tr>\n",
       "    <tr>\n",
       "      <th>59</th>\n",
       "      <td>210.8</td>\n",
       "      <td>49.6</td>\n",
       "      <td>23.8</td>\n",
       "    </tr>\n",
       "  </tbody>\n",
       "</table>\n",
       "</div>"
      ],
      "text/plain": [
       "        TV  radio  sales\n",
       "191   39.5   41.1   10.8\n",
       "8    120.2   19.6   13.2\n",
       "27   142.9   29.3   15.0\n",
       "139   43.0   25.9    9.6\n",
       "59   210.8   49.6   23.8"
      ]
     },
     "execution_count": 47,
     "metadata": {},
     "output_type": "execute_result"
    }
   ],
   "source": [
    "new_df = pd.DataFrame()\n",
    "new_df = X_train.copy()\n",
    "\n",
    "new_df[\"sales\"] = Y_train.copy()\n",
    "new_df.shape\n",
    "new_df.head()"
   ]
  },
  {
   "cell_type": "markdown",
   "metadata": {},
   "source": [
    "### Introduction to OLS Regression Results\n",
    "\n",
    "The Ordinary Least Squares (OLS) regression results provide insights into the relationship between advertising expenditures (TV and radio) and sales. OLS regression is a commonly used method for estimating the unknown parameters in a linear regression model. In this analysis, we aim to understand how changes in TV and radio advertising budgets impact sales.\n"
   ]
  },
  {
   "cell_type": "code",
   "execution_count": 49,
   "metadata": {},
   "outputs": [
    {
     "name": "stdout",
     "output_type": "stream",
     "text": [
      "Intercept    3.217026\n",
      "TV           0.043721\n",
      "radio        0.192425\n",
      "dtype: float64\n",
      "                            OLS Regression Results                            \n",
      "==============================================================================\n",
      "Dep. Variable:                  sales   R-squared:                       0.921\n",
      "Model:                            OLS   Adj. R-squared:                  0.920\n",
      "Method:                 Least Squares   F-statistic:                     912.9\n",
      "Date:                Fri, 01 Mar 2024   Prob (F-statistic):           3.47e-87\n",
      "Time:                        23:36:01   Log-Likelihood:                -276.70\n",
      "No. Observations:                 160   AIC:                             559.4\n",
      "Df Residuals:                     157   BIC:                             568.6\n",
      "Df Model:                           2                                         \n",
      "Covariance Type:            nonrobust                                         \n",
      "==============================================================================\n",
      "                 coef    std err          t      P>|t|      [0.025      0.975]\n",
      "------------------------------------------------------------------------------\n",
      "Intercept      3.2170      0.271     11.855      0.000       2.681       3.753\n",
      "TV             0.0437      0.001     32.616      0.000       0.041       0.046\n",
      "radio          0.1924      0.008     25.462      0.000       0.177       0.207\n",
      "==============================================================================\n",
      "Omnibus:                       12.555   Durbin-Watson:                   2.100\n",
      "Prob(Omnibus):                  0.002   Jarque-Bera (JB):               13.347\n",
      "Skew:                          -0.697   Prob(JB):                      0.00126\n",
      "Kurtosis:                       3.241   Cond. No.                         418.\n",
      "==============================================================================\n",
      "\n",
      "Warnings:\n",
      "[1] Standard Errors assume that the covariance matrix of the errors is correctly specified.\n"
     ]
    }
   ],
   "source": [
    "import statsmodels.formula.api as sm\n",
    "\n",
    "# create a fitted model with all three features\n",
    "lm_model = sm.ols(formula ='sales ~ TV + radio ', # + newspaper', \n",
    "                  data=new_df).fit()\n",
    "\n",
    "#print the coefficients\n",
    "print(lm_model.params)\n",
    "print(lm_model.summary())\n",
    "\n",
    "\"\"\"\n",
    "3.353291385815158\n",
    "[ 0.0437425   0.19303708 -0.04895137]\n",
    "\n",
    "\"\"\";"
   ]
  },
  {
   "cell_type": "markdown",
   "metadata": {},
   "source": [
    "Values to check upon <br> R-Square <br> Adj R-Squared <br> AIC <br> BIC <br> P values for hypothesis testing <br> Durbin - Watson value for Auto-correlation"
   ]
  },
  {
   "cell_type": "markdown",
   "metadata": {},
   "source": [
    "### Insights from OLS Regression Results\n",
    "\n",
    "#### Coefficients:\n",
    "- **Intercept (3.2170):** The intercept represents the expected value of sales when the advertising expenditures for both TV and radio are zero. In this case, it indicates the baseline level of sales that can be attributed to factors other than advertising.\n",
    "- **TV (0.0437):** The coefficient for TV advertising expenditure suggests that, on average, for every unit increase in TV advertising spending, sales are expected to increase by approximately 0.0437 units, holding other variables constant.\n",
    "- **Radio (0.1924):** Similarly, the coefficient for radio advertising expenditure indicates that, on average, for every unit increase in radio advertising spending, sales are expected to increase by approximately 0.1924 units, holding other variables constant.\n",
    "\n",
    "#### R-squared and Adjusted R-squared:\n",
    "- **R-squared (0.921):** The R-squared value measures the proportion of variance in the dependent variable (sales) that is explained by the independent variables (TV and radio advertising expenditures). In this case, approximately 92.1% of the variance in sales can be explained by the linear relationship with TV and radio advertising.\n",
    "- **Adjusted R-squared (0.920):** The adjusted R-squared value adjusts the R-squared value based on the number of predictors in the model, providing a more accurate assessment of model fit. The adjusted R-squared value accounts for the degrees of freedom and penalizes for overfitting, resulting in a slightly lower value compared to R-squared.\n",
    "\n",
    "#### Statistical Significance:\n",
    "- The p-values associated with the coefficients for TV and radio advertising expenditures are both less than 0.05, indicating that they are statistically significant at the 5% level. This suggests that the observed relationships between advertising expenditures and sales are unlikely to have occurred by chance.\n",
    "\n",
    "#### Model Fit:\n",
    "- The F-statistic (912.9) and its associated p-value (3.47e-87) indicate that the overall model is statistically significant, suggesting that the regression model as a whole is a good fit for the data.\n",
    "- The AIC (Akaike Information Criterion) and BIC (Bayesian Information Criterion) are measures of the relative quality of statistical models, with lower values indicating better fit. In this case, the AIC and BIC values are 559.4 and 568.6, respectively.\n",
    "\n",
    "#### Assumptions and Warnings:\n",
    "- The OLS regression assumes that the errors are normally distributed and have constant variance. Violations of these assumptions could affect the reliability of the regression estimates.\n",
    "- Warnings and additional information about the model's performance are provided at the bottom of the results, including measures such as Omnibus, Durbin-Watson, Jarque-Bera, and Kurtosis, which assess aspects of the model's residuals and overall fit."
   ]
  },
  {
   "cell_type": "code",
   "execution_count": 50,
   "metadata": {},
   "outputs": [],
   "source": [
    "Y_pred_new = lm_model.predict(X_test)"
   ]
  },
  {
   "cell_type": "code",
   "execution_count": 51,
   "metadata": {},
   "outputs": [
    {
     "name": "stdout",
     "output_type": "stream",
     "text": [
      "R-Squared : 0.8354496662944217\n",
      "RMSE : 2.587881707737811\n",
      "Adj R-Square : 0.8337791045309133\n"
     ]
    }
   ],
   "source": [
    "from sklearn.metrics import r2_score, mean_squared_error\n",
    "import numpy as np \n",
    "\n",
    "r2=r2_score(Y_test,Y_pred_new)\n",
    "print(\"R-Squared :\",r2)\n",
    "\n",
    "rmse=np.sqrt(mean_squared_error(Y_test,Y_pred_new))\n",
    "print(\"RMSE :\",rmse)\n",
    "\n",
    "adjusted_r_squared = 1-(1-r2)*(len(Y)-1)/(len(Y)-X.shape[1]-1)\n",
    "print(\"Adj R-Square :\",adjusted_r_squared)\n",
    "\"\"\"\n",
    "R-Squared : 0.8348010719035319\n",
    "RMSE : 2.592976911093061\n",
    "Adj R-Square : 0.8322725168816472\n",
    "\n",
    "\"\"\";"
   ]
  },
  {
   "cell_type": "code",
   "execution_count": 52,
   "metadata": {},
   "outputs": [
    {
     "name": "stdout",
     "output_type": "stream",
     "text": [
      "Intercept    3.217026\n",
      "TV           0.043721\n",
      "radio        0.192425\n",
      "dtype: float64\n",
      "                            OLS Regression Results                            \n",
      "==============================================================================\n",
      "Dep. Variable:                  sales   R-squared:                       0.921\n",
      "Model:                            OLS   Adj. R-squared:                  0.920\n",
      "Method:                 Least Squares   F-statistic:                     912.9\n",
      "Date:                Fri, 01 Mar 2024   Prob (F-statistic):           3.47e-87\n",
      "Time:                        23:41:33   Log-Likelihood:                -276.70\n",
      "No. Observations:                 160   AIC:                             559.4\n",
      "Df Residuals:                     157   BIC:                             568.6\n",
      "Df Model:                           2                                         \n",
      "Covariance Type:            nonrobust                                         \n",
      "==============================================================================\n",
      "                 coef    std err          t      P>|t|      [0.025      0.975]\n",
      "------------------------------------------------------------------------------\n",
      "Intercept      3.2170      0.271     11.855      0.000       2.681       3.753\n",
      "TV             0.0437      0.001     32.616      0.000       0.041       0.046\n",
      "radio          0.1924      0.008     25.462      0.000       0.177       0.207\n",
      "==============================================================================\n",
      "Omnibus:                       12.555   Durbin-Watson:                   2.100\n",
      "Prob(Omnibus):                  0.002   Jarque-Bera (JB):               13.347\n",
      "Skew:                          -0.697   Prob(JB):                      0.00126\n",
      "Kurtosis:                       3.241   Cond. No.                         418.\n",
      "==============================================================================\n",
      "\n",
      "Warnings:\n",
      "[1] Standard Errors assume that the covariance matrix of the errors is correctly specified.\n"
     ]
    }
   ],
   "source": [
    "import statsmodels.formula.api as sm\n",
    "\n",
    "# create a fitted model with all three features\n",
    "lm_model = sm.ols(formula ='sales ~ TV + radio ', \n",
    "                  data=new_df).fit()\n",
    "\n",
    "#print the coefficients\n",
    "print(lm_model.params)\n",
    "print(lm_model.summary())\n"
   ]
  },
  {
   "cell_type": "code",
   "execution_count": null,
   "metadata": {},
   "outputs": [],
   "source": [
    "Y_pred_new = lm_model.predict(X_test)"
   ]
  },
  {
   "cell_type": "code",
   "execution_count": null,
   "metadata": {},
   "outputs": [],
   "source": [
    "from sklearn.metrics import r2_score, mean_squared_error\n",
    "import numpy as np \n",
    "\n",
    "r2=r2_score(Y_test,Y_pred_new)\n",
    "print(\"R-Squared :\",r2)\n",
    "\n",
    "rmse=np.sqrt(mean_squared_error(Y_test,Y_pred_new))\n",
    "print(\"RMSE :\",rmse)\n",
    "\n",
    "adjusted_r_squared = 1-(1-r2)*(len(Y)-1)/(len(Y)-X.shape[1]-1)\n",
    "print(\"Adj R-Square :\",adjusted_r_squared)"
   ]
  },
  {
   "cell_type": "code",
   "execution_count": null,
   "metadata": {},
   "outputs": [],
   "source": []
  },
  {
   "cell_type": "markdown",
   "metadata": {},
   "source": [
    "<b>Out of the various models we executed, Lasso model returns the best r** and lower RMSE \n",
    "<br>So for any future predicition we can use Lasso model to predict and generate the output"
   ]
  },
  {
   "cell_type": "code",
   "execution_count": 53,
   "metadata": {},
   "outputs": [
    {
     "data": {
      "image/png": "[encoded data removed]",
      "text/plain": [
       "<Figure size 432x288 with 1 Axes>"
      ]
     },
     "metadata": {
      "needs_background": "light"
     },
     "output_type": "display_data"
    }
   ],
   "source": [
    "import seaborn as sns\n",
    "import matplotlib.pyplot as plt\n",
    "# Assumption : Errors should be random\n",
    "# checked using Residual vs Fitted plot\n",
    "model_fitted_y =lm_model.fittedvalues\n",
    "sns.residplot(x=model_fitted_y, y='sales', data=new_df, lowess=True)\n",
    "plt.xlabel('Fitted Values')\n",
    "plt.ylabel('Residuals')\n",
    "plt.show()\n"
   ]
  },
  {
   "cell_type": "markdown",
   "metadata": {},
   "source": [
    "We should see a random line fitted into the data and it should not follow a wave like data. "
   ]
  },
  {
   "cell_type": "code",
   "execution_count": 54,
   "metadata": {},
   "outputs": [
    {
     "data": {
      "image/png": "[encoded data removed]",
      "text/plain": [
       "<Figure size 432x288 with 1 Axes>"
      ]
     },
     "execution_count": 54,
     "metadata": {},
     "output_type": "execute_result"
    },
    {
     "data": {
      "image/png": "[encoded data removed]",
      "text/plain": [
       "<Figure size 432x288 with 1 Axes>"
      ]
     },
     "metadata": {
      "needs_background": "light"
     },
     "output_type": "display_data"
    }
   ],
   "source": [
    "#Assumption : Errors should follow a approximate normal distribution\n",
    "# checked using Normal QQ Plot (Quantile Quantile plot)\n",
    "import statsmodels.api as sma\n",
    "sma.qqplot(lm_model.resid, line='s')"
   ]
  },
  {
   "cell_type": "markdown",
   "metadata": {},
   "source": [
    "The errors should follow the red diagonal line for a normal distribution,\n",
    "<br> if they're away from the diagonal line then it indicated skewness."
   ]
  },
  {
   "cell_type": "markdown",
   "metadata": {},
   "source": [
    "Right skewed QQ Plot - https://www.google.com/url?sa=i&url=https%3A%2F%2Fseankross.com%2F2016%2F02%2F29%2FA-Q-Q-Plot-Dissection-Kit.html&psig=AOvVaw0Q35lJXeCihpOpPA4fdG3C&ust=1694777326900000&source=images&cd=vfe&opi=89978449&ved=0CBAQjRxqFwoTCPjU49b_qYEDFQAAAAAdAAAAABAJ"
   ]
  },
  {
   "cell_type": "markdown",
   "metadata": {},
   "source": [
    "Left skewed QQ Plot - https://www.google.com/url?sa=i&url=https%3A%2F%2Fseankross.com%2F2016%2F02%2F29%2FA-Q-Q-Plot-Dissection-Kit.html&psig=AOvVaw0Q35lJXeCihpOpPA4fdG3C&ust=1694777326900000&source=images&cd=vfe&opi=89978449&ved=0CBAQjRxqFwoTCPjU49b_qYEDFQAAAAAdAAAAABAQ"
   ]
  },
  {
   "cell_type": "code",
   "execution_count": 55,
   "metadata": {},
   "outputs": [
    {
     "data": {
      "image/png": "[encoded data removed]",
      "text/plain": [
       "<Figure size 432x288 with 1 Axes>"
      ]
     },
     "metadata": {
      "needs_background": "light"
     },
     "output_type": "display_data"
    }
   ],
   "source": [
    "#Assumption : Errors should follow a constant variance --> Homoskedasticity\n",
    "# checked using Scale location plot\n",
    "model_norm_residuals_abs_sqrt = np.sqrt(np.abs(lm_model.resid))\n",
    "\n",
    "sns.regplot(x=lm_model.fittedvalues, y=model_norm_residuals_abs_sqrt, scatter = True , lowess= True)\n",
    "plt.ylabel(\"Standarized residuals\")\n",
    "plt.xlabel(\"Fitted value\")\n",
    "plt.show()"
   ]
  },
  {
   "cell_type": "markdown",
   "metadata": {},
   "source": [
    "We should get to see an approximate horizontal line and not a steep curve or a V shaped line "
   ]
  },
  {
   "cell_type": "code",
   "execution_count": null,
   "metadata": {},
   "outputs": [],
   "source": []
  },
  {
   "cell_type": "code",
   "execution_count": null,
   "metadata": {},
   "outputs": [],
   "source": []
  }
 ],
 "metadata": {
  "kernelspec": {
   "display_name": "Python 3",
   "language": "python",
   "name": "python3"
  },
  "language_info": {
   "codemirror_mode": {
    "name": "ipython",
    "version": 3
   },
   "file_extension": ".py",
   "mimetype": "text/x-python",
   "name": "python",
   "nbconvert_exporter": "python",
   "pygments_lexer": "ipython3",
   "version": "3.7.6"
  }
 },
 "nbformat": 4,
 "nbformat_minor": 5
}
